{
 "cells": [
  {
   "cell_type": "code",
   "execution_count": 83,
   "id": "8ca8dcfb-1ad0-472f-b324-4caef8253645",
   "metadata": {},
   "outputs": [],
   "source": [
    "#imports \n",
    "import pandas as pd\n",
    "import numpy as np \n",
    "import matplotlib.pyplot as plt\n",
    "import seaborn as sns\n",
    "\n",
    "from sklearn.model_selection import train_test_split, cross_val_score\n",
    "from sklearn.linear_model import LinearRegression\n",
    "from sklearn.preprocessing import StandardScaler\n",
    "from sklearn.linear_model import Ridge\n",
    "from sklearn.linear_model import RidgeCV\n",
    "from sklearn.linear_model import Lasso, LassoCV\n",
    "from sklearn.preprocessing import PolynomialFeatures"
   ]
  },
  {
   "cell_type": "code",
   "execution_count": 84,
   "id": "254c691d-b211-409b-8465-11111a85307b",
   "metadata": {},
   "outputs": [],
   "source": [
    "#reading in dataset train \n",
    "df = pd.read_csv('./datasets/train_cleaned.csv')\n",
    "df_test = pd.read_csv('datasets/test_cleanded.csv')"
   ]
  },
  {
   "cell_type": "markdown",
   "id": "71f830c2-4252-4573-8e67-2b172f9b2b12",
   "metadata": {},
   "source": [
    "## Standar Scaling "
   ]
  },
  {
   "cell_type": "code",
   "execution_count": 85,
   "id": "6a9389f4-9370-4ed4-8991-e6f856e60906",
   "metadata": {},
   "outputs": [],
   "source": [
    "X = df.drop(columns=['SalePrice'])\n",
    "y = df['SalePrice'] \n",
    "X_train, X_test, y_train, y_test = train_test_split(X, y, random_state=2023)\n"
   ]
  },
  {
   "cell_type": "code",
   "execution_count": 86,
   "id": "faa5bd01-299d-4380-a2d2-9bbdc479e74e",
   "metadata": {},
   "outputs": [],
   "source": [
    "poly = PolynomialFeatures(degree=2, include_bias=False)\n",
    "X_poly = poly.fit_transform(X)"
   ]
  },
  {
   "cell_type": "code",
   "execution_count": 87,
   "id": "8a3fea98-ce64-4a9e-bc86-8f87d9be8daf",
   "metadata": {},
   "outputs": [],
   "source": [
    "sc = StandardScaler()\n",
    "Z_train = sc.fit_transform(X_train) \n",
    "Z_test = sc.transform(X_test)\n",
    "Z_test_val=sc.transform(df_test)"
   ]
  },
  {
   "cell_type": "code",
   "execution_count": 88,
   "id": "742edab5-78c7-4637-9ac7-5beefe5b0c6a",
   "metadata": {},
   "outputs": [
    {
     "data": {
      "text/html": [
       "<div>\n",
       "<style scoped>\n",
       "    .dataframe tbody tr th:only-of-type {\n",
       "        vertical-align: middle;\n",
       "    }\n",
       "\n",
       "    .dataframe tbody tr th {\n",
       "        vertical-align: top;\n",
       "    }\n",
       "\n",
       "    .dataframe thead th {\n",
       "        text-align: right;\n",
       "    }\n",
       "</style>\n",
       "<table border=\"1\" class=\"dataframe\">\n",
       "  <thead>\n",
       "    <tr style=\"text-align: right;\">\n",
       "      <th></th>\n",
       "      <th>Unnamed: 0</th>\n",
       "      <th>Id</th>\n",
       "      <th>PID</th>\n",
       "      <th>Lot Frontage</th>\n",
       "      <th>Lot Area</th>\n",
       "      <th>Year Built</th>\n",
       "      <th>Year Remod/Add</th>\n",
       "      <th>Mas Vnr Area</th>\n",
       "      <th>BsmtFin SF 1</th>\n",
       "      <th>Bsmt Unf SF</th>\n",
       "      <th>...</th>\n",
       "      <th>Garage Cond_Fa</th>\n",
       "      <th>Garage Cond_TA</th>\n",
       "      <th>Paved Drive_N</th>\n",
       "      <th>Paved Drive_Y</th>\n",
       "      <th>Kitchen AbvGr_1</th>\n",
       "      <th>Kitchen AbvGr_2</th>\n",
       "      <th>Fence_MnPrv</th>\n",
       "      <th>Sale Type_COD</th>\n",
       "      <th>Sale Type_New</th>\n",
       "      <th>Sale Type_WD</th>\n",
       "    </tr>\n",
       "  </thead>\n",
       "  <tbody>\n",
       "    <tr>\n",
       "      <th>0</th>\n",
       "      <td>0</td>\n",
       "      <td>2658</td>\n",
       "      <td>902301120</td>\n",
       "      <td>69.000000</td>\n",
       "      <td>9142</td>\n",
       "      <td>1910</td>\n",
       "      <td>1950</td>\n",
       "      <td>0.0</td>\n",
       "      <td>0</td>\n",
       "      <td>1020</td>\n",
       "      <td>...</td>\n",
       "      <td>0</td>\n",
       "      <td>0</td>\n",
       "      <td>0</td>\n",
       "      <td>1</td>\n",
       "      <td>0</td>\n",
       "      <td>1</td>\n",
       "      <td>0</td>\n",
       "      <td>0</td>\n",
       "      <td>0</td>\n",
       "      <td>1</td>\n",
       "    </tr>\n",
       "    <tr>\n",
       "      <th>1</th>\n",
       "      <td>1</td>\n",
       "      <td>2718</td>\n",
       "      <td>905108090</td>\n",
       "      <td>69.545961</td>\n",
       "      <td>9662</td>\n",
       "      <td>1977</td>\n",
       "      <td>1977</td>\n",
       "      <td>0.0</td>\n",
       "      <td>0</td>\n",
       "      <td>1967</td>\n",
       "      <td>...</td>\n",
       "      <td>0</td>\n",
       "      <td>1</td>\n",
       "      <td>0</td>\n",
       "      <td>1</td>\n",
       "      <td>0</td>\n",
       "      <td>1</td>\n",
       "      <td>0</td>\n",
       "      <td>0</td>\n",
       "      <td>0</td>\n",
       "      <td>1</td>\n",
       "    </tr>\n",
       "    <tr>\n",
       "      <th>2</th>\n",
       "      <td>2</td>\n",
       "      <td>2414</td>\n",
       "      <td>528218130</td>\n",
       "      <td>58.000000</td>\n",
       "      <td>17104</td>\n",
       "      <td>2006</td>\n",
       "      <td>2006</td>\n",
       "      <td>0.0</td>\n",
       "      <td>554</td>\n",
       "      <td>100</td>\n",
       "      <td>...</td>\n",
       "      <td>0</td>\n",
       "      <td>1</td>\n",
       "      <td>0</td>\n",
       "      <td>1</td>\n",
       "      <td>1</td>\n",
       "      <td>0</td>\n",
       "      <td>0</td>\n",
       "      <td>0</td>\n",
       "      <td>1</td>\n",
       "      <td>0</td>\n",
       "    </tr>\n",
       "    <tr>\n",
       "      <th>3</th>\n",
       "      <td>3</td>\n",
       "      <td>1989</td>\n",
       "      <td>902207150</td>\n",
       "      <td>60.000000</td>\n",
       "      <td>8520</td>\n",
       "      <td>1923</td>\n",
       "      <td>2006</td>\n",
       "      <td>0.0</td>\n",
       "      <td>0</td>\n",
       "      <td>968</td>\n",
       "      <td>...</td>\n",
       "      <td>0</td>\n",
       "      <td>1</td>\n",
       "      <td>1</td>\n",
       "      <td>0</td>\n",
       "      <td>1</td>\n",
       "      <td>0</td>\n",
       "      <td>0</td>\n",
       "      <td>0</td>\n",
       "      <td>0</td>\n",
       "      <td>1</td>\n",
       "    </tr>\n",
       "    <tr>\n",
       "      <th>4</th>\n",
       "      <td>4</td>\n",
       "      <td>625</td>\n",
       "      <td>535105100</td>\n",
       "      <td>69.545961</td>\n",
       "      <td>9500</td>\n",
       "      <td>1963</td>\n",
       "      <td>1963</td>\n",
       "      <td>247.0</td>\n",
       "      <td>609</td>\n",
       "      <td>785</td>\n",
       "      <td>...</td>\n",
       "      <td>0</td>\n",
       "      <td>1</td>\n",
       "      <td>0</td>\n",
       "      <td>1</td>\n",
       "      <td>1</td>\n",
       "      <td>0</td>\n",
       "      <td>0</td>\n",
       "      <td>0</td>\n",
       "      <td>0</td>\n",
       "      <td>1</td>\n",
       "    </tr>\n",
       "  </tbody>\n",
       "</table>\n",
       "<p>5 rows × 168 columns</p>\n",
       "</div>"
      ],
      "text/plain": [
       "   Unnamed: 0    Id        PID  Lot Frontage  Lot Area  Year Built  \\\n",
       "0           0  2658  902301120     69.000000      9142        1910   \n",
       "1           1  2718  905108090     69.545961      9662        1977   \n",
       "2           2  2414  528218130     58.000000     17104        2006   \n",
       "3           3  1989  902207150     60.000000      8520        1923   \n",
       "4           4   625  535105100     69.545961      9500        1963   \n",
       "\n",
       "   Year Remod/Add  Mas Vnr Area  BsmtFin SF 1  Bsmt Unf SF  ...  \\\n",
       "0            1950           0.0             0         1020  ...   \n",
       "1            1977           0.0             0         1967  ...   \n",
       "2            2006           0.0           554          100  ...   \n",
       "3            2006           0.0             0          968  ...   \n",
       "4            1963         247.0           609          785  ...   \n",
       "\n",
       "   Garage Cond_Fa  Garage Cond_TA  Paved Drive_N  Paved Drive_Y  \\\n",
       "0               0               0              0              1   \n",
       "1               0               1              0              1   \n",
       "2               0               1              0              1   \n",
       "3               0               1              1              0   \n",
       "4               0               1              0              1   \n",
       "\n",
       "   Kitchen AbvGr_1  Kitchen AbvGr_2  Fence_MnPrv  Sale Type_COD  \\\n",
       "0                0                1            0              0   \n",
       "1                0                1            0              0   \n",
       "2                1                0            0              0   \n",
       "3                1                0            0              0   \n",
       "4                1                0            0              0   \n",
       "\n",
       "   Sale Type_New  Sale Type_WD   \n",
       "0              0              1  \n",
       "1              0              1  \n",
       "2              1              0  \n",
       "3              0              1  \n",
       "4              0              1  \n",
       "\n",
       "[5 rows x 168 columns]"
      ]
     },
     "execution_count": 88,
     "metadata": {},
     "output_type": "execute_result"
    }
   ],
   "source": [
    "df_test.head()"
   ]
  },
  {
   "cell_type": "markdown",
   "id": "de1bdc79-f120-4ca6-8344-5b8413059460",
   "metadata": {},
   "source": [
    "## Lasso"
   ]
  },
  {
   "cell_type": "code",
   "execution_count": 89,
   "id": "2c9e707f-a924-45a3-be57-8f058cd5456f",
   "metadata": {},
   "outputs": [],
   "source": [
    "lasso_alphas = np.linspace(300, 400, 100) \n",
    "lasso_cv = LassoCV(alphas = lasso_alphas, cv=10, max_iter=100000)"
   ]
  },
  {
   "cell_type": "code",
   "execution_count": 90,
   "id": "fbffd122-a015-49ea-b183-b7f636a1f335",
   "metadata": {},
   "outputs": [],
   "source": [
    "lasso_cv.fit(Z_train, y_train);"
   ]
  },
  {
   "cell_type": "code",
   "execution_count": 91,
   "id": "f512c6d2-ae20-499c-87d7-37c39cd0b0b5",
   "metadata": {},
   "outputs": [
    {
     "data": {
      "text/plain": [
       "374.74747474747477"
      ]
     },
     "execution_count": 91,
     "metadata": {},
     "output_type": "execute_result"
    }
   ],
   "source": [
    "lasso_cv.alpha_"
   ]
  },
  {
   "cell_type": "code",
   "execution_count": 92,
   "id": "11b6b14d-9cf9-4351-81eb-945cf5c4ee9d",
   "metadata": {},
   "outputs": [
    {
     "data": {
      "text/plain": [
       "0.8983433557819633"
      ]
     },
     "execution_count": 92,
     "metadata": {},
     "output_type": "execute_result"
    }
   ],
   "source": [
    "np.mean(cross_val_score(lasso_cv, X, y, cv=5))"
   ]
  },
  {
   "cell_type": "code",
   "execution_count": 93,
   "id": "12e650be-1bc8-4b49-b607-ca592c228d5c",
   "metadata": {},
   "outputs": [
    {
     "name": "stdout",
     "output_type": "stream",
     "text": [
      "0.9261307963976271\n",
      "0.9242547617419916\n"
     ]
    }
   ],
   "source": [
    "\n",
    "print(lasso_cv.score(Z_train, y_train))\n",
    "print(lasso_cv.score(Z_test, y_test))"
   ]
  },
  {
   "cell_type": "code",
   "execution_count": 94,
   "id": "f2c111be-3731-45c7-a1fa-068a0961c41a",
   "metadata": {},
   "outputs": [
    {
     "name": "stderr",
     "output_type": "stream",
     "text": [
      "C:\\Users\\seefe\\anaconda3\\lib\\site-packages\\sklearn\\base.py:420: UserWarning: X does not have valid feature names, but LassoCV was fitted with feature names\n",
      "  warnings.warn(\n"
     ]
    }
   ],
   "source": [
    "lasso_cv.fit(X, y)\n",
    "df_test['SalePrice'] = lasso_cv.predict(Z_test_val)"
   ]
  },
  {
   "cell_type": "code",
   "execution_count": 95,
   "id": "dc969ba2-02a5-4b57-9c31-2f1c2506b43f",
   "metadata": {},
   "outputs": [],
   "source": [
    "submission = df_test[['Id', 'SalePrice']]\n",
    "submission.set_index('Id', inplace =True) \n",
    "submission.to_csv('Submissions/subl_lasso.csv')"
   ]
  }
 ],
 "metadata": {
  "kernelspec": {
   "display_name": "Python 3 (ipykernel)",
   "language": "python",
   "name": "python3"
  },
  "language_info": {
   "codemirror_mode": {
    "name": "ipython",
    "version": 3
   },
   "file_extension": ".py",
   "mimetype": "text/x-python",
   "name": "python",
   "nbconvert_exporter": "python",
   "pygments_lexer": "ipython3",
   "version": "3.10.9"
  }
 },
 "nbformat": 4,
 "nbformat_minor": 5
}
