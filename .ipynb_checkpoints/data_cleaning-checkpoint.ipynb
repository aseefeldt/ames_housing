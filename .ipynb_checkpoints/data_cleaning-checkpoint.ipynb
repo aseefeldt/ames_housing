{
 "cells": [
  {
   "cell_type": "code",
   "execution_count": 885,
   "id": "8ca8dcfb-1ad0-472f-b324-4caef8253645",
   "metadata": {},
   "outputs": [],
   "source": [
    "#imports \n",
    "import pandas as pd\n",
    "import numpy as np \n",
    "import matplotlib.pyplot as plt\n",
    "import seaborn as sns\n",
    "\n",
    "from sklearn.model_selection import train_test_split, GridSearchCV, cross_val_score, KFold\n",
    "from sklearn.linear_model import LinearRegression\n",
    "from sklearn.preprocessing import StandardScaler\n",
    "from sklearn.linear_model import LogisticRegression\n",
    "from sklearn.pipeline import Pipeline\n",
    "from sklearn.neighbors import KNeighborsClassifier, KNeighborsRegressor\n",
    "from sklearn.preprocessing import PolynomialFeatures"
   ]
  },
  {
   "cell_type": "code",
   "execution_count": 886,
   "id": "254c691d-b211-409b-8465-11111a85307b",
   "metadata": {},
   "outputs": [],
   "source": [
    "#reading in dataset train \n",
    "df = pd.read_csv('./datasets/train.csv')\n",
    "df_test = pd.read_csv('datasets/test.csv')"
   ]
  },
  {
   "cell_type": "code",
   "execution_count": 887,
   "id": "27df572e-7968-4341-9e0e-771e5ad5005d",
   "metadata": {},
   "outputs": [],
   "source": [
    "pd.set_option('display.max_columns', None)"
   ]
  },
  {
   "cell_type": "markdown",
   "id": "73aef7fb-ab54-4170-b526-daa6f403e372",
   "metadata": {},
   "source": [
    "my first run was good enough to get me into 3rd (for now), but it was over fit.  This attemp will try to fix that"
   ]
  },
  {
   "cell_type": "markdown",
   "id": "8e91478e-4a4d-4bdc-a004-a5b838dc5c24",
   "metadata": {},
   "source": [
    "Creating Function for EDA to make future me happy, i am keeping this the same for this run \n"
   ]
  },
  {
   "cell_type": "code",
   "execution_count": 888,
   "id": "0be7d38a-6950-4e74-ac9d-286d6bac3304",
   "metadata": {},
   "outputs": [
    {
     "data": {
      "text/html": [
       "<div>\n",
       "<style scoped>\n",
       "    .dataframe tbody tr th:only-of-type {\n",
       "        vertical-align: middle;\n",
       "    }\n",
       "\n",
       "    .dataframe tbody tr th {\n",
       "        vertical-align: top;\n",
       "    }\n",
       "\n",
       "    .dataframe thead th {\n",
       "        text-align: right;\n",
       "    }\n",
       "</style>\n",
       "<table border=\"1\" class=\"dataframe\">\n",
       "  <thead>\n",
       "    <tr style=\"text-align: right;\">\n",
       "      <th></th>\n",
       "      <th>Id</th>\n",
       "      <th>PID</th>\n",
       "      <th>MS SubClass</th>\n",
       "      <th>MS Zoning</th>\n",
       "      <th>Lot Frontage</th>\n",
       "      <th>Lot Area</th>\n",
       "      <th>Street</th>\n",
       "      <th>Alley</th>\n",
       "      <th>Lot Shape</th>\n",
       "      <th>Land Contour</th>\n",
       "      <th>Utilities</th>\n",
       "      <th>Lot Config</th>\n",
       "      <th>Land Slope</th>\n",
       "      <th>Neighborhood</th>\n",
       "      <th>Condition 1</th>\n",
       "      <th>Condition 2</th>\n",
       "      <th>Bldg Type</th>\n",
       "      <th>House Style</th>\n",
       "      <th>Overall Qual</th>\n",
       "      <th>Overall Cond</th>\n",
       "      <th>Year Built</th>\n",
       "      <th>Year Remod/Add</th>\n",
       "      <th>Roof Style</th>\n",
       "      <th>Roof Matl</th>\n",
       "      <th>Exterior 1st</th>\n",
       "      <th>Exterior 2nd</th>\n",
       "      <th>Mas Vnr Type</th>\n",
       "      <th>Mas Vnr Area</th>\n",
       "      <th>Exter Qual</th>\n",
       "      <th>Exter Cond</th>\n",
       "      <th>Foundation</th>\n",
       "      <th>Bsmt Qual</th>\n",
       "      <th>Bsmt Cond</th>\n",
       "      <th>Bsmt Exposure</th>\n",
       "      <th>BsmtFin Type 1</th>\n",
       "      <th>BsmtFin SF 1</th>\n",
       "      <th>BsmtFin Type 2</th>\n",
       "      <th>BsmtFin SF 2</th>\n",
       "      <th>Bsmt Unf SF</th>\n",
       "      <th>Total Bsmt SF</th>\n",
       "      <th>Heating</th>\n",
       "      <th>Heating QC</th>\n",
       "      <th>Central Air</th>\n",
       "      <th>Electrical</th>\n",
       "      <th>1st Flr SF</th>\n",
       "      <th>2nd Flr SF</th>\n",
       "      <th>Low Qual Fin SF</th>\n",
       "      <th>Gr Liv Area</th>\n",
       "      <th>Bsmt Full Bath</th>\n",
       "      <th>Bsmt Half Bath</th>\n",
       "      <th>Full Bath</th>\n",
       "      <th>Half Bath</th>\n",
       "      <th>Bedroom AbvGr</th>\n",
       "      <th>Kitchen AbvGr</th>\n",
       "      <th>Kitchen Qual</th>\n",
       "      <th>TotRms AbvGrd</th>\n",
       "      <th>Functional</th>\n",
       "      <th>Fireplaces</th>\n",
       "      <th>Fireplace Qu</th>\n",
       "      <th>Garage Type</th>\n",
       "      <th>Garage Yr Blt</th>\n",
       "      <th>Garage Finish</th>\n",
       "      <th>Garage Cars</th>\n",
       "      <th>Garage Area</th>\n",
       "      <th>Garage Qual</th>\n",
       "      <th>Garage Cond</th>\n",
       "      <th>Paved Drive</th>\n",
       "      <th>Wood Deck SF</th>\n",
       "      <th>Open Porch SF</th>\n",
       "      <th>Enclosed Porch</th>\n",
       "      <th>3Ssn Porch</th>\n",
       "      <th>Screen Porch</th>\n",
       "      <th>Pool Area</th>\n",
       "      <th>Pool QC</th>\n",
       "      <th>Fence</th>\n",
       "      <th>Misc Feature</th>\n",
       "      <th>Misc Val</th>\n",
       "      <th>Mo Sold</th>\n",
       "      <th>Yr Sold</th>\n",
       "      <th>Sale Type</th>\n",
       "      <th>SalePrice</th>\n",
       "    </tr>\n",
       "  </thead>\n",
       "  <tbody>\n",
       "    <tr>\n",
       "      <th>0</th>\n",
       "      <td>109</td>\n",
       "      <td>533352170</td>\n",
       "      <td>60</td>\n",
       "      <td>RL</td>\n",
       "      <td>NaN</td>\n",
       "      <td>13517</td>\n",
       "      <td>Pave</td>\n",
       "      <td>NaN</td>\n",
       "      <td>IR1</td>\n",
       "      <td>Lvl</td>\n",
       "      <td>AllPub</td>\n",
       "      <td>CulDSac</td>\n",
       "      <td>Gtl</td>\n",
       "      <td>Sawyer</td>\n",
       "      <td>RRAe</td>\n",
       "      <td>Norm</td>\n",
       "      <td>1Fam</td>\n",
       "      <td>2Story</td>\n",
       "      <td>6</td>\n",
       "      <td>8</td>\n",
       "      <td>1976</td>\n",
       "      <td>2005</td>\n",
       "      <td>Gable</td>\n",
       "      <td>CompShg</td>\n",
       "      <td>HdBoard</td>\n",
       "      <td>Plywood</td>\n",
       "      <td>BrkFace</td>\n",
       "      <td>289.0</td>\n",
       "      <td>Gd</td>\n",
       "      <td>TA</td>\n",
       "      <td>CBlock</td>\n",
       "      <td>TA</td>\n",
       "      <td>TA</td>\n",
       "      <td>No</td>\n",
       "      <td>GLQ</td>\n",
       "      <td>533.0</td>\n",
       "      <td>Unf</td>\n",
       "      <td>0.0</td>\n",
       "      <td>192.0</td>\n",
       "      <td>725.0</td>\n",
       "      <td>GasA</td>\n",
       "      <td>Ex</td>\n",
       "      <td>Y</td>\n",
       "      <td>SBrkr</td>\n",
       "      <td>725</td>\n",
       "      <td>754</td>\n",
       "      <td>0</td>\n",
       "      <td>1479</td>\n",
       "      <td>0.0</td>\n",
       "      <td>0.0</td>\n",
       "      <td>2</td>\n",
       "      <td>1</td>\n",
       "      <td>3</td>\n",
       "      <td>1</td>\n",
       "      <td>Gd</td>\n",
       "      <td>6</td>\n",
       "      <td>Typ</td>\n",
       "      <td>0</td>\n",
       "      <td>NaN</td>\n",
       "      <td>Attchd</td>\n",
       "      <td>1976.0</td>\n",
       "      <td>RFn</td>\n",
       "      <td>2.0</td>\n",
       "      <td>475.0</td>\n",
       "      <td>TA</td>\n",
       "      <td>TA</td>\n",
       "      <td>Y</td>\n",
       "      <td>0</td>\n",
       "      <td>44</td>\n",
       "      <td>0</td>\n",
       "      <td>0</td>\n",
       "      <td>0</td>\n",
       "      <td>0</td>\n",
       "      <td>NaN</td>\n",
       "      <td>NaN</td>\n",
       "      <td>NaN</td>\n",
       "      <td>0</td>\n",
       "      <td>3</td>\n",
       "      <td>2010</td>\n",
       "      <td>WD</td>\n",
       "      <td>130500</td>\n",
       "    </tr>\n",
       "    <tr>\n",
       "      <th>1</th>\n",
       "      <td>544</td>\n",
       "      <td>531379050</td>\n",
       "      <td>60</td>\n",
       "      <td>RL</td>\n",
       "      <td>43.0</td>\n",
       "      <td>11492</td>\n",
       "      <td>Pave</td>\n",
       "      <td>NaN</td>\n",
       "      <td>IR1</td>\n",
       "      <td>Lvl</td>\n",
       "      <td>AllPub</td>\n",
       "      <td>CulDSac</td>\n",
       "      <td>Gtl</td>\n",
       "      <td>SawyerW</td>\n",
       "      <td>Norm</td>\n",
       "      <td>Norm</td>\n",
       "      <td>1Fam</td>\n",
       "      <td>2Story</td>\n",
       "      <td>7</td>\n",
       "      <td>5</td>\n",
       "      <td>1996</td>\n",
       "      <td>1997</td>\n",
       "      <td>Gable</td>\n",
       "      <td>CompShg</td>\n",
       "      <td>VinylSd</td>\n",
       "      <td>VinylSd</td>\n",
       "      <td>BrkFace</td>\n",
       "      <td>132.0</td>\n",
       "      <td>Gd</td>\n",
       "      <td>TA</td>\n",
       "      <td>PConc</td>\n",
       "      <td>Gd</td>\n",
       "      <td>TA</td>\n",
       "      <td>No</td>\n",
       "      <td>GLQ</td>\n",
       "      <td>637.0</td>\n",
       "      <td>Unf</td>\n",
       "      <td>0.0</td>\n",
       "      <td>276.0</td>\n",
       "      <td>913.0</td>\n",
       "      <td>GasA</td>\n",
       "      <td>Ex</td>\n",
       "      <td>Y</td>\n",
       "      <td>SBrkr</td>\n",
       "      <td>913</td>\n",
       "      <td>1209</td>\n",
       "      <td>0</td>\n",
       "      <td>2122</td>\n",
       "      <td>1.0</td>\n",
       "      <td>0.0</td>\n",
       "      <td>2</td>\n",
       "      <td>1</td>\n",
       "      <td>4</td>\n",
       "      <td>1</td>\n",
       "      <td>Gd</td>\n",
       "      <td>8</td>\n",
       "      <td>Typ</td>\n",
       "      <td>1</td>\n",
       "      <td>TA</td>\n",
       "      <td>Attchd</td>\n",
       "      <td>1997.0</td>\n",
       "      <td>RFn</td>\n",
       "      <td>2.0</td>\n",
       "      <td>559.0</td>\n",
       "      <td>TA</td>\n",
       "      <td>TA</td>\n",
       "      <td>Y</td>\n",
       "      <td>0</td>\n",
       "      <td>74</td>\n",
       "      <td>0</td>\n",
       "      <td>0</td>\n",
       "      <td>0</td>\n",
       "      <td>0</td>\n",
       "      <td>NaN</td>\n",
       "      <td>NaN</td>\n",
       "      <td>NaN</td>\n",
       "      <td>0</td>\n",
       "      <td>4</td>\n",
       "      <td>2009</td>\n",
       "      <td>WD</td>\n",
       "      <td>220000</td>\n",
       "    </tr>\n",
       "    <tr>\n",
       "      <th>2</th>\n",
       "      <td>153</td>\n",
       "      <td>535304180</td>\n",
       "      <td>20</td>\n",
       "      <td>RL</td>\n",
       "      <td>68.0</td>\n",
       "      <td>7922</td>\n",
       "      <td>Pave</td>\n",
       "      <td>NaN</td>\n",
       "      <td>Reg</td>\n",
       "      <td>Lvl</td>\n",
       "      <td>AllPub</td>\n",
       "      <td>Inside</td>\n",
       "      <td>Gtl</td>\n",
       "      <td>NAmes</td>\n",
       "      <td>Norm</td>\n",
       "      <td>Norm</td>\n",
       "      <td>1Fam</td>\n",
       "      <td>1Story</td>\n",
       "      <td>5</td>\n",
       "      <td>7</td>\n",
       "      <td>1953</td>\n",
       "      <td>2007</td>\n",
       "      <td>Gable</td>\n",
       "      <td>CompShg</td>\n",
       "      <td>VinylSd</td>\n",
       "      <td>VinylSd</td>\n",
       "      <td>None</td>\n",
       "      <td>0.0</td>\n",
       "      <td>TA</td>\n",
       "      <td>Gd</td>\n",
       "      <td>CBlock</td>\n",
       "      <td>TA</td>\n",
       "      <td>TA</td>\n",
       "      <td>No</td>\n",
       "      <td>GLQ</td>\n",
       "      <td>731.0</td>\n",
       "      <td>Unf</td>\n",
       "      <td>0.0</td>\n",
       "      <td>326.0</td>\n",
       "      <td>1057.0</td>\n",
       "      <td>GasA</td>\n",
       "      <td>TA</td>\n",
       "      <td>Y</td>\n",
       "      <td>SBrkr</td>\n",
       "      <td>1057</td>\n",
       "      <td>0</td>\n",
       "      <td>0</td>\n",
       "      <td>1057</td>\n",
       "      <td>1.0</td>\n",
       "      <td>0.0</td>\n",
       "      <td>1</td>\n",
       "      <td>0</td>\n",
       "      <td>3</td>\n",
       "      <td>1</td>\n",
       "      <td>Gd</td>\n",
       "      <td>5</td>\n",
       "      <td>Typ</td>\n",
       "      <td>0</td>\n",
       "      <td>NaN</td>\n",
       "      <td>Detchd</td>\n",
       "      <td>1953.0</td>\n",
       "      <td>Unf</td>\n",
       "      <td>1.0</td>\n",
       "      <td>246.0</td>\n",
       "      <td>TA</td>\n",
       "      <td>TA</td>\n",
       "      <td>Y</td>\n",
       "      <td>0</td>\n",
       "      <td>52</td>\n",
       "      <td>0</td>\n",
       "      <td>0</td>\n",
       "      <td>0</td>\n",
       "      <td>0</td>\n",
       "      <td>NaN</td>\n",
       "      <td>NaN</td>\n",
       "      <td>NaN</td>\n",
       "      <td>0</td>\n",
       "      <td>1</td>\n",
       "      <td>2010</td>\n",
       "      <td>WD</td>\n",
       "      <td>109000</td>\n",
       "    </tr>\n",
       "    <tr>\n",
       "      <th>3</th>\n",
       "      <td>318</td>\n",
       "      <td>916386060</td>\n",
       "      <td>60</td>\n",
       "      <td>RL</td>\n",
       "      <td>73.0</td>\n",
       "      <td>9802</td>\n",
       "      <td>Pave</td>\n",
       "      <td>NaN</td>\n",
       "      <td>Reg</td>\n",
       "      <td>Lvl</td>\n",
       "      <td>AllPub</td>\n",
       "      <td>Inside</td>\n",
       "      <td>Gtl</td>\n",
       "      <td>Timber</td>\n",
       "      <td>Norm</td>\n",
       "      <td>Norm</td>\n",
       "      <td>1Fam</td>\n",
       "      <td>2Story</td>\n",
       "      <td>5</td>\n",
       "      <td>5</td>\n",
       "      <td>2006</td>\n",
       "      <td>2007</td>\n",
       "      <td>Gable</td>\n",
       "      <td>CompShg</td>\n",
       "      <td>VinylSd</td>\n",
       "      <td>VinylSd</td>\n",
       "      <td>None</td>\n",
       "      <td>0.0</td>\n",
       "      <td>TA</td>\n",
       "      <td>TA</td>\n",
       "      <td>PConc</td>\n",
       "      <td>Gd</td>\n",
       "      <td>TA</td>\n",
       "      <td>No</td>\n",
       "      <td>Unf</td>\n",
       "      <td>0.0</td>\n",
       "      <td>Unf</td>\n",
       "      <td>0.0</td>\n",
       "      <td>384.0</td>\n",
       "      <td>384.0</td>\n",
       "      <td>GasA</td>\n",
       "      <td>Gd</td>\n",
       "      <td>Y</td>\n",
       "      <td>SBrkr</td>\n",
       "      <td>744</td>\n",
       "      <td>700</td>\n",
       "      <td>0</td>\n",
       "      <td>1444</td>\n",
       "      <td>0.0</td>\n",
       "      <td>0.0</td>\n",
       "      <td>2</td>\n",
       "      <td>1</td>\n",
       "      <td>3</td>\n",
       "      <td>1</td>\n",
       "      <td>TA</td>\n",
       "      <td>7</td>\n",
       "      <td>Typ</td>\n",
       "      <td>0</td>\n",
       "      <td>NaN</td>\n",
       "      <td>BuiltIn</td>\n",
       "      <td>2007.0</td>\n",
       "      <td>Fin</td>\n",
       "      <td>2.0</td>\n",
       "      <td>400.0</td>\n",
       "      <td>TA</td>\n",
       "      <td>TA</td>\n",
       "      <td>Y</td>\n",
       "      <td>100</td>\n",
       "      <td>0</td>\n",
       "      <td>0</td>\n",
       "      <td>0</td>\n",
       "      <td>0</td>\n",
       "      <td>0</td>\n",
       "      <td>NaN</td>\n",
       "      <td>NaN</td>\n",
       "      <td>NaN</td>\n",
       "      <td>0</td>\n",
       "      <td>4</td>\n",
       "      <td>2010</td>\n",
       "      <td>WD</td>\n",
       "      <td>174000</td>\n",
       "    </tr>\n",
       "    <tr>\n",
       "      <th>4</th>\n",
       "      <td>255</td>\n",
       "      <td>906425045</td>\n",
       "      <td>50</td>\n",
       "      <td>RL</td>\n",
       "      <td>82.0</td>\n",
       "      <td>14235</td>\n",
       "      <td>Pave</td>\n",
       "      <td>NaN</td>\n",
       "      <td>IR1</td>\n",
       "      <td>Lvl</td>\n",
       "      <td>AllPub</td>\n",
       "      <td>Inside</td>\n",
       "      <td>Gtl</td>\n",
       "      <td>SawyerW</td>\n",
       "      <td>Norm</td>\n",
       "      <td>Norm</td>\n",
       "      <td>1Fam</td>\n",
       "      <td>1.5Fin</td>\n",
       "      <td>6</td>\n",
       "      <td>8</td>\n",
       "      <td>1900</td>\n",
       "      <td>1993</td>\n",
       "      <td>Gable</td>\n",
       "      <td>CompShg</td>\n",
       "      <td>Wd Sdng</td>\n",
       "      <td>Plywood</td>\n",
       "      <td>None</td>\n",
       "      <td>0.0</td>\n",
       "      <td>TA</td>\n",
       "      <td>TA</td>\n",
       "      <td>PConc</td>\n",
       "      <td>Fa</td>\n",
       "      <td>Gd</td>\n",
       "      <td>No</td>\n",
       "      <td>Unf</td>\n",
       "      <td>0.0</td>\n",
       "      <td>Unf</td>\n",
       "      <td>0.0</td>\n",
       "      <td>676.0</td>\n",
       "      <td>676.0</td>\n",
       "      <td>GasA</td>\n",
       "      <td>TA</td>\n",
       "      <td>Y</td>\n",
       "      <td>SBrkr</td>\n",
       "      <td>831</td>\n",
       "      <td>614</td>\n",
       "      <td>0</td>\n",
       "      <td>1445</td>\n",
       "      <td>0.0</td>\n",
       "      <td>0.0</td>\n",
       "      <td>2</td>\n",
       "      <td>0</td>\n",
       "      <td>3</td>\n",
       "      <td>1</td>\n",
       "      <td>TA</td>\n",
       "      <td>6</td>\n",
       "      <td>Typ</td>\n",
       "      <td>0</td>\n",
       "      <td>NaN</td>\n",
       "      <td>Detchd</td>\n",
       "      <td>1957.0</td>\n",
       "      <td>Unf</td>\n",
       "      <td>2.0</td>\n",
       "      <td>484.0</td>\n",
       "      <td>TA</td>\n",
       "      <td>TA</td>\n",
       "      <td>N</td>\n",
       "      <td>0</td>\n",
       "      <td>59</td>\n",
       "      <td>0</td>\n",
       "      <td>0</td>\n",
       "      <td>0</td>\n",
       "      <td>0</td>\n",
       "      <td>NaN</td>\n",
       "      <td>NaN</td>\n",
       "      <td>NaN</td>\n",
       "      <td>0</td>\n",
       "      <td>3</td>\n",
       "      <td>2010</td>\n",
       "      <td>WD</td>\n",
       "      <td>138500</td>\n",
       "    </tr>\n",
       "  </tbody>\n",
       "</table>\n",
       "</div>"
      ],
      "text/plain": [
       "    Id        PID  MS SubClass MS Zoning  Lot Frontage  Lot Area Street Alley  \\\n",
       "0  109  533352170           60        RL           NaN     13517   Pave   NaN   \n",
       "1  544  531379050           60        RL          43.0     11492   Pave   NaN   \n",
       "2  153  535304180           20        RL          68.0      7922   Pave   NaN   \n",
       "3  318  916386060           60        RL          73.0      9802   Pave   NaN   \n",
       "4  255  906425045           50        RL          82.0     14235   Pave   NaN   \n",
       "\n",
       "  Lot Shape Land Contour Utilities Lot Config Land Slope Neighborhood  \\\n",
       "0       IR1          Lvl    AllPub    CulDSac        Gtl       Sawyer   \n",
       "1       IR1          Lvl    AllPub    CulDSac        Gtl      SawyerW   \n",
       "2       Reg          Lvl    AllPub     Inside        Gtl        NAmes   \n",
       "3       Reg          Lvl    AllPub     Inside        Gtl       Timber   \n",
       "4       IR1          Lvl    AllPub     Inside        Gtl      SawyerW   \n",
       "\n",
       "  Condition 1 Condition 2 Bldg Type House Style  Overall Qual  Overall Cond  \\\n",
       "0        RRAe        Norm      1Fam      2Story             6             8   \n",
       "1        Norm        Norm      1Fam      2Story             7             5   \n",
       "2        Norm        Norm      1Fam      1Story             5             7   \n",
       "3        Norm        Norm      1Fam      2Story             5             5   \n",
       "4        Norm        Norm      1Fam      1.5Fin             6             8   \n",
       "\n",
       "   Year Built  Year Remod/Add Roof Style Roof Matl Exterior 1st Exterior 2nd  \\\n",
       "0        1976            2005      Gable   CompShg      HdBoard      Plywood   \n",
       "1        1996            1997      Gable   CompShg      VinylSd      VinylSd   \n",
       "2        1953            2007      Gable   CompShg      VinylSd      VinylSd   \n",
       "3        2006            2007      Gable   CompShg      VinylSd      VinylSd   \n",
       "4        1900            1993      Gable   CompShg      Wd Sdng      Plywood   \n",
       "\n",
       "  Mas Vnr Type  Mas Vnr Area Exter Qual Exter Cond Foundation Bsmt Qual  \\\n",
       "0      BrkFace         289.0         Gd         TA     CBlock        TA   \n",
       "1      BrkFace         132.0         Gd         TA      PConc        Gd   \n",
       "2         None           0.0         TA         Gd     CBlock        TA   \n",
       "3         None           0.0         TA         TA      PConc        Gd   \n",
       "4         None           0.0         TA         TA      PConc        Fa   \n",
       "\n",
       "  Bsmt Cond Bsmt Exposure BsmtFin Type 1  BsmtFin SF 1 BsmtFin Type 2  \\\n",
       "0        TA            No            GLQ         533.0            Unf   \n",
       "1        TA            No            GLQ         637.0            Unf   \n",
       "2        TA            No            GLQ         731.0            Unf   \n",
       "3        TA            No            Unf           0.0            Unf   \n",
       "4        Gd            No            Unf           0.0            Unf   \n",
       "\n",
       "   BsmtFin SF 2  Bsmt Unf SF  Total Bsmt SF Heating Heating QC Central Air  \\\n",
       "0           0.0        192.0          725.0    GasA         Ex           Y   \n",
       "1           0.0        276.0          913.0    GasA         Ex           Y   \n",
       "2           0.0        326.0         1057.0    GasA         TA           Y   \n",
       "3           0.0        384.0          384.0    GasA         Gd           Y   \n",
       "4           0.0        676.0          676.0    GasA         TA           Y   \n",
       "\n",
       "  Electrical  1st Flr SF  2nd Flr SF  Low Qual Fin SF  Gr Liv Area  \\\n",
       "0      SBrkr         725         754                0         1479   \n",
       "1      SBrkr         913        1209                0         2122   \n",
       "2      SBrkr        1057           0                0         1057   \n",
       "3      SBrkr         744         700                0         1444   \n",
       "4      SBrkr         831         614                0         1445   \n",
       "\n",
       "   Bsmt Full Bath  Bsmt Half Bath  Full Bath  Half Bath  Bedroom AbvGr  \\\n",
       "0             0.0             0.0          2          1              3   \n",
       "1             1.0             0.0          2          1              4   \n",
       "2             1.0             0.0          1          0              3   \n",
       "3             0.0             0.0          2          1              3   \n",
       "4             0.0             0.0          2          0              3   \n",
       "\n",
       "   Kitchen AbvGr Kitchen Qual  TotRms AbvGrd Functional  Fireplaces  \\\n",
       "0              1           Gd              6        Typ           0   \n",
       "1              1           Gd              8        Typ           1   \n",
       "2              1           Gd              5        Typ           0   \n",
       "3              1           TA              7        Typ           0   \n",
       "4              1           TA              6        Typ           0   \n",
       "\n",
       "  Fireplace Qu Garage Type  Garage Yr Blt Garage Finish  Garage Cars  \\\n",
       "0          NaN      Attchd         1976.0           RFn          2.0   \n",
       "1           TA      Attchd         1997.0           RFn          2.0   \n",
       "2          NaN      Detchd         1953.0           Unf          1.0   \n",
       "3          NaN     BuiltIn         2007.0           Fin          2.0   \n",
       "4          NaN      Detchd         1957.0           Unf          2.0   \n",
       "\n",
       "   Garage Area Garage Qual Garage Cond Paved Drive  Wood Deck SF  \\\n",
       "0        475.0          TA          TA           Y             0   \n",
       "1        559.0          TA          TA           Y             0   \n",
       "2        246.0          TA          TA           Y             0   \n",
       "3        400.0          TA          TA           Y           100   \n",
       "4        484.0          TA          TA           N             0   \n",
       "\n",
       "   Open Porch SF  Enclosed Porch  3Ssn Porch  Screen Porch  Pool Area Pool QC  \\\n",
       "0             44               0           0             0          0     NaN   \n",
       "1             74               0           0             0          0     NaN   \n",
       "2             52               0           0             0          0     NaN   \n",
       "3              0               0           0             0          0     NaN   \n",
       "4             59               0           0             0          0     NaN   \n",
       "\n",
       "  Fence Misc Feature  Misc Val  Mo Sold  Yr Sold Sale Type  SalePrice  \n",
       "0   NaN          NaN         0        3     2010       WD      130500  \n",
       "1   NaN          NaN         0        4     2009       WD      220000  \n",
       "2   NaN          NaN         0        1     2010       WD      109000  \n",
       "3   NaN          NaN         0        4     2010       WD      174000  \n",
       "4   NaN          NaN         0        3     2010       WD      138500  "
      ]
     },
     "execution_count": 888,
     "metadata": {},
     "output_type": "execute_result"
    }
   ],
   "source": [
    "df.head()"
   ]
  },
  {
   "cell_type": "code",
   "execution_count": 889,
   "id": "fd64725d-1297-4679-af1d-69714205a848",
   "metadata": {},
   "outputs": [
    {
     "data": {
      "text/plain": [
       "\"list of catagory items, checking to confirm there are none left.  \\n#df.drop(columns = ['MS SubClass', 'MS Zoning',\\n       'Street', 'Alley', 'Lot Shape', 'Land Contour',\\n       'Utilities', 'Lot Config', 'Land Slope', 'Neighborhood',\\n       'Condition 1', 'Condition 2', 'Bldg Type', 'House Style',\\n       'Overall Qual', 'Overall Cond',\\n       'Roof Style', 'Roof Matl', 'Exterior 1st', 'Exterior 2nd',\\n       'Mas Vnr Type', 'Exter Qual', 'Exter Cond',\\n       'Foundation', 'Bsmt Qual', 'Bsmt Cond', 'Bsmt Exposure',\\n       'BsmtFin Type 1', 'BsmtFin Type 2', 'Heating', 'Heating QC',\\n       'Central Air', 'Electrical','Kitchen Qual', 'Functional', 'Fireplace Qu', 'Garage Type',\\n       'Garage Finish', 'Garage Qual',\\n       'Garage Cond', 'Paved Drive',\\n       'Pool QC', 'Fence', 'Misc Feature', 'Sale Type'], inplace = True)\\n\""
      ]
     },
     "execution_count": 889,
     "metadata": {},
     "output_type": "execute_result"
    }
   ],
   "source": [
    "\"\"\"list of catagory items, checking to confirm there are none left.  \n",
    "#df.drop(columns = ['MS SubClass', 'MS Zoning',\n",
    "       'Street', 'Alley', 'Lot Shape', 'Land Contour',\n",
    "       'Utilities', 'Lot Config', 'Land Slope', 'Neighborhood',\n",
    "       'Condition 1', 'Condition 2', 'Bldg Type', 'House Style',\n",
    "       'Overall Qual', 'Overall Cond',\n",
    "       'Roof Style', 'Roof Matl', 'Exterior 1st', 'Exterior 2nd',\n",
    "       'Mas Vnr Type', 'Exter Qual', 'Exter Cond',\n",
    "       'Foundation', 'Bsmt Qual', 'Bsmt Cond', 'Bsmt Exposure',\n",
    "       'BsmtFin Type 1', 'BsmtFin Type 2', 'Heating', 'Heating QC',\n",
    "       'Central Air', 'Electrical','Kitchen Qual', 'Functional', 'Fireplace Qu', 'Garage Type',\n",
    "       'Garage Finish', 'Garage Qual',\n",
    "       'Garage Cond', 'Paved Drive',\n",
    "       'Pool QC', 'Fence', 'Misc Feature', 'Sale Type'], inplace = True)\n",
    "\"\"\"        "
   ]
  },
  {
   "cell_type": "code",
   "execution_count": 890,
   "id": "9e81f58f-28d6-4225-9044-bf8473f2ae71",
   "metadata": {},
   "outputs": [],
   "source": [
    "#list(df.columns.values)"
   ]
  },
  {
   "cell_type": "code",
   "execution_count": 891,
   "id": "bf3767cb-137f-40ac-80d1-6f440eeeb026",
   "metadata": {},
   "outputs": [],
   "source": [
    "df_nums = df[['Lot Frontage','Lot Area','Mas Vnr Area','BsmtFin SF 1','BsmtFin SF 2','Bsmt Unf SF', 'Total Bsmt SF', '1st Flr SF', '2nd Flr SF', 'Low Qual Fin SF', 'Gr Liv Area', 'Garage Area']]"
   ]
  },
  {
   "cell_type": "markdown",
   "id": "3e2d43c3-6c11-494e-8d3c-057e81859269",
   "metadata": {},
   "source": [
    "## Found some outlyers further in EDA, going to replace those with "
   ]
  },
  {
   "cell_type": "code",
   "execution_count": 892,
   "id": "98b5279e-1444-4742-ab24-7ff2710612da",
   "metadata": {},
   "outputs": [],
   "source": [
    "df.loc[df['Lot Area'] > 100_000, 'Lot Area'] = np.nan"
   ]
  },
  {
   "cell_type": "code",
   "execution_count": 893,
   "id": "8fc86e99-a805-48fb-87d1-79ed241c804f",
   "metadata": {},
   "outputs": [],
   "source": [
    "df.loc[df['Mas Vnr Area'] > 100_000, 'Mas Vnr Area'] = np.nan"
   ]
  },
  {
   "cell_type": "code",
   "execution_count": 894,
   "id": "7adebf63-c719-468d-881e-47d0e2a456df",
   "metadata": {},
   "outputs": [],
   "source": [
    "#df.loc[df['Lot Area'] > 100_000, 'Lot Area'] = np.nan"
   ]
  },
  {
   "cell_type": "code",
   "execution_count": 895,
   "id": "1eedbf4e-1c59-4522-bd7b-1a851c53a72c",
   "metadata": {},
   "outputs": [],
   "source": [
    "#df.loc[df['Lot Area'] > 100_000, 'Lot Area'] = np.nan"
   ]
  },
  {
   "cell_type": "code",
   "execution_count": 896,
   "id": "77325ab9-413d-4ed4-99a9-db316eef4db4",
   "metadata": {},
   "outputs": [],
   "source": [
    "#df.loc[df['Lot Area'] > 100_000, 'Lot Area'] = np.nan"
   ]
  },
  {
   "cell_type": "code",
   "execution_count": 897,
   "id": "7b10f57f-9a76-446a-821b-2088237440a1",
   "metadata": {},
   "outputs": [
    {
     "data": {
      "text/plain": [
       "Id                0\n",
       "PID               0\n",
       "MS SubClass       0\n",
       "MS Zoning         0\n",
       "Lot Frontage    330\n",
       "               ... \n",
       "Misc Val          0\n",
       "Mo Sold           0\n",
       "Yr Sold           0\n",
       "Sale Type         0\n",
       "SalePrice         0\n",
       "Length: 81, dtype: int64"
      ]
     },
     "execution_count": 897,
     "metadata": {},
     "output_type": "execute_result"
    }
   ],
   "source": [
    "df.isnull().sum()"
   ]
  },
  {
   "cell_type": "markdown",
   "id": "92a4766d-b801-452c-ad33-c7757f9dee06",
   "metadata": {},
   "source": [
    "## code to get dummies and run some data cleaning "
   ]
  },
  {
   "cell_type": "code",
   "execution_count": 898,
   "id": "598918e2-6859-46b1-9767-b817a651a4d0",
   "metadata": {},
   "outputs": [],
   "source": [
    "#first lets create the function and some dummies \n",
    "def eda_function (df): \n",
    "    # replacing NAN in lot frontage with mean to reduce outlyers and still give a data point \n",
    "    df['Lot Frontage'].fillna(value=(df['Lot Frontage'].mean()), inplace = True)\n",
    "    \n",
    "    # replacing NAN in garage year with mean to reduce outlyers and still give a data point \n",
    "    df['Garage Yr Blt'].fillna(value=(df['Garage Yr Blt'].mean()), inplace = True)\n",
    "    \n",
    "    #replacing mason area with 0 as it is likely to be the case and it will not create an outlyer\n",
    "    df['Mas Vnr Area'].fillna(value=(df['Mas Vnr Area'].mean()), inplace = True)\n",
    "\n",
    "    #making catagories into dummies \n",
    "    df = pd.get_dummies(df, columns =['MS SubClass', 'MS Zoning',\n",
    "       'Street', 'Alley', 'Lot Shape', 'Land Contour',\n",
    "       'Utilities', 'Lot Config', 'Land Slope', 'Neighborhood',\n",
    "       'Condition 1', 'Condition 2', 'Bldg Type', 'House Style',\n",
    "       'Overall Qual', 'Overall Cond', 'Full Bath','Half Bath', \n",
    "       'Roof Style', 'Roof Matl', 'Exterior 1st', 'Exterior 2nd', 'Bsmt Full Bath',\n",
    "       'Mas Vnr Type', 'Exter Qual', 'Exter Cond', 'Bsmt Half Bath', 'Bedroom AbvGr',\n",
    "       'Foundation', 'Bsmt Qual', 'Bsmt Cond', 'Bsmt Exposure',\n",
    "       'BsmtFin Type 1', 'BsmtFin Type 2', 'Heating', 'Heating QC',\n",
    "       'Central Air', 'Electrical','Kitchen Qual', 'Functional', 'Fireplace Qu', 'Garage Type',\n",
    "       'Garage Finish', 'Garage Qual', 'Garage Cars',\n",
    "       'Garage Cond', 'Paved Drive', 'Mo Sold', 'Kitchen AbvGr', 'TotRms AbvGrd',\n",
    "       'Pool QC', 'Fence', 'Misc Feature', 'Sale Type', 'Year Built', 'Year Remod/Add', 'Garage Yr Blt', 'Yr Sold'])\n",
    "    #replacing all other NAs with zero  https://sparkbyexamples.com/pandas/pandas-replace-nan-values-by-zero-in-a-column/#:~:text=Replace%20NaN%20Values%20with%20Zero%20on%20pandas%20DataFrame,but%20returns%20a%20new%20DataFrame.\n",
    "    df = df.fillna(0) \n",
    "    \n",
    "    return df"
   ]
  },
  {
   "cell_type": "markdown",
   "id": "1b237744-a062-469d-9e7e-692f25f1391f",
   "metadata": {},
   "source": [
    "sending info thorugh the function "
   ]
  },
  {
   "cell_type": "code",
   "execution_count": 899,
   "id": "247e1d9e-1f2b-4418-b131-f8cb18a1f265",
   "metadata": {},
   "outputs": [],
   "source": [
    "df_test = eda_function(df_test) "
   ]
  },
  {
   "cell_type": "code",
   "execution_count": 900,
   "id": "d0213a18-5c54-4f9a-8da4-e4a76a49fc46",
   "metadata": {},
   "outputs": [],
   "source": [
    "df = eda_function(df) "
   ]
  },
  {
   "cell_type": "code",
   "execution_count": 901,
   "id": "50a5fe2f-2d1c-434e-bf3b-ae7a7411c5ff",
   "metadata": {},
   "outputs": [
    {
     "name": "stdout",
     "output_type": "stream",
     "text": [
      "<class 'pandas.core.frame.DataFrame'>\n",
      "RangeIndex: 2051 entries, 0 to 2050\n",
      "Columns: 650 entries, Id to Yr Sold_2010\n",
      "dtypes: float64(8), int64(15), uint8(627)\n",
      "memory usage: 1.6 MB\n"
     ]
    }
   ],
   "source": [
    "df.info()"
   ]
  },
  {
   "cell_type": "code",
   "execution_count": null,
   "id": "a77b4f17-0c1c-4d43-8ab2-95fb91e8c2af",
   "metadata": {},
   "outputs": [],
   "source": []
  },
  {
   "cell_type": "code",
   "execution_count": null,
   "id": "919bd182-247a-470a-a0cf-2f2ee3ac5b11",
   "metadata": {},
   "outputs": [],
   "source": []
  },
  {
   "cell_type": "code",
   "execution_count": null,
   "id": "b55c6dcd-ac6b-41c1-ba0b-bd5fe4643882",
   "metadata": {},
   "outputs": [],
   "source": []
  },
  {
   "cell_type": "markdown",
   "id": "ada3f9e1-c69e-4ce7-a865-3d3093d6a529",
   "metadata": {},
   "source": [
    "dropping columns that are not in both sets "
   ]
  },
  {
   "cell_type": "code",
   "execution_count": 902,
   "id": "77cedf65-e780-4b46-8238-9d9cad41a3a7",
   "metadata": {
    "tags": []
   },
   "outputs": [
    {
     "data": {
      "text/plain": [
       "['Exterior 2nd_Stone',\n",
       " 'Garage Yr Blt_1933.0',\n",
       " 'Garage Yr Blt_2207.0',\n",
       " 'Roof Matl_Membran',\n",
       " 'Exterior 1st_Stone',\n",
       " 'Bsmt Full Bath_1.0',\n",
       " 'Garage Qual_Ex',\n",
       " 'Year Built_1898',\n",
       " 'Bsmt Half Bath_0.0',\n",
       " 'Heating_Wall',\n",
       " 'Year Built_1896',\n",
       " 'Bsmt Full Bath_2.0',\n",
       " 'Exterior 1st_CBlock',\n",
       " 'TotRms AbvGrd_2',\n",
       " 'Heating QC_Po',\n",
       " 'Garage Yr Blt_1945.0',\n",
       " 'Year Built_1875',\n",
       " 'Bsmt Half Bath_1.0',\n",
       " 'Utilities_NoSeWa',\n",
       " 'Misc Feature_TenC',\n",
       " 'Neighborhood_GrnHill',\n",
       " 'Year Built_1901',\n",
       " 'SalePrice',\n",
       " 'Functional_Sal',\n",
       " 'Garage Yr Blt_1914.0',\n",
       " 'Year Built_1929',\n",
       " 'Overall Qual_1',\n",
       " 'Bedroom AbvGr_8',\n",
       " 'Garage Cars_3.0',\n",
       " 'Heating_OthW',\n",
       " 'Garage Yr Blt_1919.0',\n",
       " 'Garage Yr Blt_1929.0',\n",
       " 'Pool QC_Gd',\n",
       " 'Bsmt Full Bath_0.0',\n",
       " 'Year Built_1895',\n",
       " 'Year Built_1913',\n",
       " 'Garage Cars_4.0',\n",
       " 'Misc Feature_Elev',\n",
       " 'Condition 2_RRNn',\n",
       " 'Pool QC_Fa',\n",
       " 'TotRms AbvGrd_14',\n",
       " 'Neighborhood_Landmrk',\n",
       " 'Garage Cars_2.0',\n",
       " 'MS SubClass_150',\n",
       " 'Exterior 1st_ImStucc',\n",
       " 'Garage Cars_5.0',\n",
       " 'Garage Yr Blt_1936.0',\n",
       " 'Garage Cars_1.0',\n",
       " 'Year Built_1893',\n",
       " 'Roof Matl_ClyTile',\n",
       " 'Bsmt Half Bath_2.0',\n",
       " 'Year Built_1911',\n",
       " 'Year Built_1942',\n",
       " 'Garage Cars_0.0',\n",
       " 'Year Built_1872',\n",
       " 'Bsmt Full Bath_3.0',\n",
       " 'TotRms AbvGrd_15',\n",
       " 'Bsmt Cond_Ex',\n",
       " 'Functional_Sev',\n",
       " 'Condition 2_PosN',\n",
       " 'Garage Yr Blt_1942.0',\n",
       " 'Garage Yr Blt_1895.0',\n",
       " 'Garage Yr Blt_1978.7077955601446',\n",
       " 'Year Built_1879',\n",
       " 'TotRms AbvGrd_13',\n",
       " 'Condition 2_RRAn',\n",
       " 'Condition 2_Artery',\n",
       " 'MS Zoning_A (agr)',\n",
       " 'Garage Yr Blt_1896.0',\n",
       " 'Condition 2_RRAe',\n",
       " 'Electrical_Mix',\n",
       " 'Bsmt Cond_Po']"
      ]
     },
     "execution_count": 902,
     "metadata": {},
     "output_type": "execute_result"
    }
   ],
   "source": [
    "#finding those values  https://www.askpython.com/python/list/difference-between-two-lists-unique-entries#:~:text=In%20Python%2C%20to%20find%20the,unique%20entries%20from%20both%20lists.\n",
    "list(set(df.columns.values) - set(df_test.columns.values))\n",
    "    "
   ]
  },
  {
   "cell_type": "code",
   "execution_count": 903,
   "id": "64d46ba2-355a-4b14-a1fc-93e1700f84ed",
   "metadata": {},
   "outputs": [],
   "source": [
    "df_test = df_test.drop(columns = ['Year Built_1906',\n",
    " 'Garage Yr Blt_1976.7599039615845',\n",
    " 'Mas Vnr Type_CBlock',\n",
    " 'Garage Cars_3',\n",
    " 'Bsmt Full Bath_2',\n",
    " 'Kitchen Qual_Po',\n",
    " 'Year Built_1902',\n",
    " 'Sale Type_VWD',\n",
    " 'Heating_Floor',\n",
    " 'Bsmt Full Bath_1',\n",
    " 'Garage Yr Blt_1943.0',\n",
    " 'Year Built_1882',\n",
    " 'Garage Cars_1',\n",
    " 'Garage Cars_4',\n",
    " 'Garage Cars_2',\n",
    " 'Exterior 2nd_Other',\n",
    " 'Garage Yr Blt_1906.0',\n",
    " 'Year Built_1907',\n",
    " 'Roof Matl_Roll',\n",
    " 'Year Built_1904',\n",
    " 'Garage Cars_0',\n",
    " 'Roof Matl_Metal',\n",
    " 'Garage Yr Blt_1908.0',\n",
    " 'Bsmt Half Bath_0',\n",
    " 'Bsmt Full Bath_0',\n",
    " 'Exterior 2nd_PreCast',\n",
    " 'Exterior 1st_PreCast',\n",
    " 'Bsmt Half Bath_1'])"
   ]
  },
  {
   "cell_type": "code",
   "execution_count": 904,
   "id": "5fddf75f-0aad-42be-96af-fd88ef841aa1",
   "metadata": {},
   "outputs": [],
   "source": [
    "df =df.drop(columns = ['Year Built_1901',\n",
    " 'TotRms AbvGrd_2',\n",
    " 'Year Built_1896',\n",
    " 'Garage Yr Blt_1929.0',\n",
    " 'Bsmt Full Bath_3.0',\n",
    " 'Bsmt Full Bath_2.0',\n",
    " 'Year Built_1942',\n",
    " 'Neighborhood_GrnHill',\n",
    " 'Bsmt Full Bath_0.0',\n",
    " 'Roof Matl_Membran',\n",
    " 'Misc Feature_TenC',\n",
    " 'MS Zoning_A (agr)',\n",
    " 'Year Built_1879',\n",
    " 'Condition 2_RRNn',\n",
    " 'Exterior 1st_CBlock',\n",
    " 'Garage Cars_3.0',\n",
    " 'Bedroom AbvGr_8',\n",
    " 'Pool QC_Fa',\n",
    " 'Heating_Wall',\n",
    " 'Bsmt Cond_Po',\n",
    " 'Year Built_1911',\n",
    " 'Bsmt Full Bath_1.0',\n",
    " 'Condition 2_Artery',\n",
    " 'Roof Matl_ClyTile',\n",
    " 'Year Built_1913',\n",
    " 'Garage Qual_Ex',\n",
    " 'Garage Cars_5.0',\n",
    " 'Garage Cars_0.0',\n",
    " 'Garage Yr Blt_2207.0',\n",
    " 'Garage Cars_4.0',\n",
    " 'Garage Yr Blt_1942.0',\n",
    " 'Garage Yr Blt_1933.0',\n",
    " 'Condition 2_PosN',\n",
    " 'Garage Yr Blt_1936.0',\n",
    " 'Condition 2_RRAn',\n",
    " 'Functional_Sev',\n",
    " 'Bsmt Half Bath_2.0',\n",
    " 'Garage Yr Blt_1914.0',\n",
    " 'Bsmt Cond_Ex',\n",
    " 'Heating QC_Po',\n",
    " 'Misc Feature_Elev',\n",
    " 'Garage Yr Blt_1919.0',\n",
    " 'Year Built_1875',\n",
    " 'Garage Yr Blt_1945.0',\n",
    " 'Year Built_1929',\n",
    " 'Pool QC_Gd',\n",
    " 'Bsmt Half Bath_1.0',\n",
    " 'Bsmt Half Bath_0.0',\n",
    " 'TotRms AbvGrd_14',\n",
    " 'Garage Yr Blt_1896.0',\n",
    " 'Garage Cars_1.0',\n",
    " 'Functional_Sal',\n",
    " 'Heating_OthW',\n",
    " 'Exterior 1st_ImStucc',\n",
    " 'Condition 2_RRAe',\n",
    " 'Neighborhood_Landmrk',\n",
    " 'Year Built_1898',\n",
    " 'Electrical_Mix',\n",
    " 'MS SubClass_150',\n",
    " 'Exterior 1st_Stone',\n",
    " 'TotRms AbvGrd_15',\n",
    " 'Year Built_1872',\n",
    " 'Year Built_1895',\n",
    " 'Garage Cars_2.0',\n",
    " 'Garage Yr Blt_1895.0',\n",
    " 'Exterior 2nd_Stone',\n",
    " 'TotRms AbvGrd_13',\n",
    " 'Year Built_1893',\n",
    " 'Utilities_NoSeWa',\n",
    " 'Garage Yr Blt_1978.7077955601446',\n",
    " 'Overall Qual_1'])"
   ]
  },
  {
   "cell_type": "markdown",
   "id": "3704f8d5-8295-4926-8cab-74a522586b4c",
   "metadata": {},
   "source": [
    "## Poly"
   ]
  },
  {
   "cell_type": "code",
   "execution_count": 905,
   "id": "1dfc376d-f166-498e-9f3a-b5a9c7547cf0",
   "metadata": {},
   "outputs": [],
   "source": [
    "poly = PolynomialFeatures(degree=2, include_bias=False)\n",
    "X_poly = poly.fit_transform(X)"
   ]
  },
  {
   "cell_type": "code",
   "execution_count": null,
   "id": "4b375b55-5220-4554-bce6-10bd27976186",
   "metadata": {},
   "outputs": [],
   "source": []
  },
  {
   "cell_type": "code",
   "execution_count": null,
   "id": "0e898644-f7d7-4690-806d-91865b18e08f",
   "metadata": {},
   "outputs": [],
   "source": []
  },
  {
   "cell_type": "code",
   "execution_count": null,
   "id": "fbf3ab21-6f80-4050-9ddd-71b34b24824a",
   "metadata": {},
   "outputs": [],
   "source": []
  },
  {
   "cell_type": "code",
   "execution_count": 906,
   "id": "2ff69c1c-2685-45ba-b890-31aee6edff7c",
   "metadata": {},
   "outputs": [
    {
     "data": {
      "text/plain": [
       "(2051, 579)"
      ]
     },
     "execution_count": 906,
     "metadata": {},
     "output_type": "execute_result"
    }
   ],
   "source": [
    "df.shape"
   ]
  },
  {
   "cell_type": "markdown",
   "id": "a51b177c-550e-4249-a0e3-94215404b88c",
   "metadata": {},
   "source": [
    "## Removing Outlyers \n"
   ]
  },
  {
   "cell_type": "code",
   "execution_count": 907,
   "id": "113f3974-749d-4eea-b53d-135caa1fa347",
   "metadata": {},
   "outputs": [
    {
     "data": {
      "text/plain": [
       "1628    12789\n",
       "183     13100\n",
       "1309    34900\n",
       "1292    35000\n",
       "1518    35311\n",
       "1564    37900\n",
       "1428    39300\n",
       "408     40000\n",
       "103     44000\n",
       "1089    45000\n",
       "Name: SalePrice, dtype: int64"
      ]
     },
     "execution_count": 907,
     "metadata": {},
     "output_type": "execute_result"
    }
   ],
   "source": [
    "df['SalePrice'].nsmallest(n=10)"
   ]
  },
  {
   "cell_type": "code",
   "execution_count": 908,
   "id": "f6e9baec-1505-4f74-bae7-b1ea3c4f431b",
   "metadata": {},
   "outputs": [],
   "source": [
    "#there seems to be a few very small sale prices, we will remove those \n",
    "df.drop(df[df['SalePrice'] <40_000].index, inplace=True)\n"
   ]
  },
  {
   "cell_type": "code",
   "execution_count": 909,
   "id": "b0746645-7848-4600-a751-9932269fe1f5",
   "metadata": {},
   "outputs": [
    {
     "data": {
      "text/plain": [
       "1671    611657\n",
       "1964    591587\n",
       "1692    584500\n",
       "1796    582933\n",
       "151     556581\n",
       "1164    555000\n",
       "623     552000\n",
       "138     545224\n",
       "823     538000\n",
       "1592    535000\n",
       "Name: SalePrice, dtype: int64"
      ]
     },
     "execution_count": 909,
     "metadata": {},
     "output_type": "execute_result"
    }
   ],
   "source": [
    "df['SalePrice'].nlargest(n=10)"
   ]
  },
  {
   "cell_type": "code",
   "execution_count": 910,
   "id": "0b1cfe85-e499-44e9-9179-ebd3acbcd5ca",
   "metadata": {},
   "outputs": [],
   "source": [
    "#df.drop(df[df['SalePrice'] >400_000].index, inplace=True)"
   ]
  },
  {
   "cell_type": "code",
   "execution_count": null,
   "id": "d33c8cc2-804d-4c27-b608-2d5d07346fce",
   "metadata": {},
   "outputs": [],
   "source": []
  },
  {
   "cell_type": "markdown",
   "id": "51c0af1c-bcfb-423c-aa02-a50a68c29b95",
   "metadata": {},
   "source": [
    "Correlation.  I am going to look at corr and take out the values in the middle "
   ]
  },
  {
   "cell_type": "code",
   "execution_count": 911,
   "id": "ad20e936-c8cf-4fdd-bfdb-e26d5138b684",
   "metadata": {},
   "outputs": [],
   "source": [
    "corr = (df.corr()[['SalePrice']].sort_values(by = \"SalePrice\", ascending = False))\n",
    "corr = corr[92:-75].index\n",
    "corr = corr.drop('Id', 'SalePrice')"
   ]
  },
  {
   "cell_type": "code",
   "execution_count": 912,
   "id": "ef25d8dc-96a1-47c0-857e-8c8887d3fd72",
   "metadata": {},
   "outputs": [],
   "source": [
    "df =df.drop(columns = corr)"
   ]
  },
  {
   "cell_type": "code",
   "execution_count": 913,
   "id": "377d825a-d0de-48b7-9a70-58eb98d16ad7",
   "metadata": {
    "tags": []
   },
   "outputs": [],
   "source": [
    "df_test = df_test.drop(columns = corr)"
   ]
  },
  {
   "cell_type": "markdown",
   "id": "052a5489-7195-4984-9404-0f19ef0ce632",
   "metadata": {},
   "source": [
    "Seeing what corr is left with a heatmap "
   ]
  },
  {
   "cell_type": "code",
   "execution_count": 914,
   "id": "ef56cb70-47a0-4c41-b9d2-2d6945984c48",
   "metadata": {
    "tags": []
   },
   "outputs": [],
   "source": [
    "#df.corr()[['SalePrice']].sort_values(by=['SalePrice'], ascending=False)\n",
    "                     "
   ]
  },
  {
   "cell_type": "markdown",
   "id": "76932f14-a5ce-4ca4-b4f1-82352cea0700",
   "metadata": {},
   "source": [
    "## Setting X Y and TTS"
   ]
  },
  {
   "cell_type": "code",
   "execution_count": 915,
   "id": "2742a2e0-b01f-44ed-b718-1e530f063e70",
   "metadata": {},
   "outputs": [],
   "source": [
    "X = df.drop(columns=['SalePrice'])\n",
    "y = df['SalePrice'] "
   ]
  },
  {
   "cell_type": "code",
   "execution_count": 916,
   "id": "14aa6187-944b-4728-968d-3c3cef52ad38",
   "metadata": {},
   "outputs": [],
   "source": [
    "X_train, X_test, y_train, y_test = train_test_split(X, y, random_state=2023)"
   ]
  },
  {
   "cell_type": "markdown",
   "id": "a4cfff24-e47c-413e-b489-71157e135dec",
   "metadata": {},
   "source": [
    "## Log Reg"
   ]
  },
  {
   "cell_type": "code",
   "execution_count": 917,
   "id": "b41a2f2f-1307-4382-b4b1-4703ddf610d4",
   "metadata": {},
   "outputs": [],
   "source": [
    "pgrid ={\n",
    "    'lr__penalty':['l1'],\n",
    "    'lr__C':np.linspace(90, 110, 10)\n",
    "}\n",
    "\n",
    "pipe = Pipeline([\n",
    "    ('sc', StandardScaler()), \n",
    "    ('lr', LogisticRegression(solver='liblinear'))\n",
    "])"
   ]
  },
  {
   "cell_type": "code",
   "execution_count": 918,
   "id": "dc99fccc-94a7-46be-b05b-043e438c270a",
   "metadata": {},
   "outputs": [],
   "source": [
    "gs = GridSearchCV(pipe, param_grid=pgrid)"
   ]
  },
  {
   "cell_type": "code",
   "execution_count": 919,
   "id": "c4e79279-411a-4f9f-9175-c7676ca84182",
   "metadata": {},
   "outputs": [],
   "source": [
    "#gs.fit(X_train, y_train)"
   ]
  },
  {
   "cell_type": "code",
   "execution_count": 920,
   "id": "2ad6316a-9f57-4c95-86ca-79b034d3493a",
   "metadata": {},
   "outputs": [],
   "source": [
    "#pipe.fit(X_train, y_train)"
   ]
  },
  {
   "cell_type": "code",
   "execution_count": 921,
   "id": "f2bf7241-a7ac-4b4c-9b60-2c6ab096af23",
   "metadata": {},
   "outputs": [],
   "source": [
    "#pipe.score(X_test, y_test)"
   ]
  },
  {
   "cell_type": "code",
   "execution_count": null,
   "id": "ca0f8f0e-5d79-4096-815a-39149e751ca6",
   "metadata": {},
   "outputs": [],
   "source": []
  },
  {
   "cell_type": "code",
   "execution_count": null,
   "id": "e37bfdd5-3a4b-4d0c-9d60-b90ff9023477",
   "metadata": {},
   "outputs": [],
   "source": []
  },
  {
   "cell_type": "markdown",
   "id": "689f3937-4a15-4b47-ad8d-7372e108c149",
   "metadata": {},
   "source": [
    "## LR"
   ]
  },
  {
   "cell_type": "code",
   "execution_count": 922,
   "id": "94213893-f1e8-49e1-a217-0ad101198516",
   "metadata": {},
   "outputs": [],
   "source": [
    "lr = LinearRegression()"
   ]
  },
  {
   "cell_type": "code",
   "execution_count": 923,
   "id": "43353f58-b516-4ea3-9067-811a26c3ecda",
   "metadata": {},
   "outputs": [
    {
     "data": {
      "text/html": [
       "<style>#sk-container-id-35 {color: black;background-color: white;}#sk-container-id-35 pre{padding: 0;}#sk-container-id-35 div.sk-toggleable {background-color: white;}#sk-container-id-35 label.sk-toggleable__label {cursor: pointer;display: block;width: 100%;margin-bottom: 0;padding: 0.3em;box-sizing: border-box;text-align: center;}#sk-container-id-35 label.sk-toggleable__label-arrow:before {content: \"▸\";float: left;margin-right: 0.25em;color: #696969;}#sk-container-id-35 label.sk-toggleable__label-arrow:hover:before {color: black;}#sk-container-id-35 div.sk-estimator:hover label.sk-toggleable__label-arrow:before {color: black;}#sk-container-id-35 div.sk-toggleable__content {max-height: 0;max-width: 0;overflow: hidden;text-align: left;background-color: #f0f8ff;}#sk-container-id-35 div.sk-toggleable__content pre {margin: 0.2em;color: black;border-radius: 0.25em;background-color: #f0f8ff;}#sk-container-id-35 input.sk-toggleable__control:checked~div.sk-toggleable__content {max-height: 200px;max-width: 100%;overflow: auto;}#sk-container-id-35 input.sk-toggleable__control:checked~label.sk-toggleable__label-arrow:before {content: \"▾\";}#sk-container-id-35 div.sk-estimator input.sk-toggleable__control:checked~label.sk-toggleable__label {background-color: #d4ebff;}#sk-container-id-35 div.sk-label input.sk-toggleable__control:checked~label.sk-toggleable__label {background-color: #d4ebff;}#sk-container-id-35 input.sk-hidden--visually {border: 0;clip: rect(1px 1px 1px 1px);clip: rect(1px, 1px, 1px, 1px);height: 1px;margin: -1px;overflow: hidden;padding: 0;position: absolute;width: 1px;}#sk-container-id-35 div.sk-estimator {font-family: monospace;background-color: #f0f8ff;border: 1px dotted black;border-radius: 0.25em;box-sizing: border-box;margin-bottom: 0.5em;}#sk-container-id-35 div.sk-estimator:hover {background-color: #d4ebff;}#sk-container-id-35 div.sk-parallel-item::after {content: \"\";width: 100%;border-bottom: 1px solid gray;flex-grow: 1;}#sk-container-id-35 div.sk-label:hover label.sk-toggleable__label {background-color: #d4ebff;}#sk-container-id-35 div.sk-serial::before {content: \"\";position: absolute;border-left: 1px solid gray;box-sizing: border-box;top: 0;bottom: 0;left: 50%;z-index: 0;}#sk-container-id-35 div.sk-serial {display: flex;flex-direction: column;align-items: center;background-color: white;padding-right: 0.2em;padding-left: 0.2em;position: relative;}#sk-container-id-35 div.sk-item {position: relative;z-index: 1;}#sk-container-id-35 div.sk-parallel {display: flex;align-items: stretch;justify-content: center;background-color: white;position: relative;}#sk-container-id-35 div.sk-item::before, #sk-container-id-35 div.sk-parallel-item::before {content: \"\";position: absolute;border-left: 1px solid gray;box-sizing: border-box;top: 0;bottom: 0;left: 50%;z-index: -1;}#sk-container-id-35 div.sk-parallel-item {display: flex;flex-direction: column;z-index: 1;position: relative;background-color: white;}#sk-container-id-35 div.sk-parallel-item:first-child::after {align-self: flex-end;width: 50%;}#sk-container-id-35 div.sk-parallel-item:last-child::after {align-self: flex-start;width: 50%;}#sk-container-id-35 div.sk-parallel-item:only-child::after {width: 0;}#sk-container-id-35 div.sk-dashed-wrapped {border: 1px dashed gray;margin: 0 0.4em 0.5em 0.4em;box-sizing: border-box;padding-bottom: 0.4em;background-color: white;}#sk-container-id-35 div.sk-label label {font-family: monospace;font-weight: bold;display: inline-block;line-height: 1.2em;}#sk-container-id-35 div.sk-label-container {text-align: center;}#sk-container-id-35 div.sk-container {/* jupyter's `normalize.less` sets `[hidden] { display: none; }` but bootstrap.min.css set `[hidden] { display: none !important; }` so we also need the `!important` here to be able to override the default hidden behavior on the sphinx rendered scikit-learn.org. See: https://github.com/scikit-learn/scikit-learn/issues/21755 */display: inline-block !important;position: relative;}#sk-container-id-35 div.sk-text-repr-fallback {display: none;}</style><div id=\"sk-container-id-35\" class=\"sk-top-container\"><div class=\"sk-text-repr-fallback\"><pre>LinearRegression()</pre><b>In a Jupyter environment, please rerun this cell to show the HTML representation or trust the notebook. <br />On GitHub, the HTML representation is unable to render, please try loading this page with nbviewer.org.</b></div><div class=\"sk-container\" hidden><div class=\"sk-item\"><div class=\"sk-estimator sk-toggleable\"><input class=\"sk-toggleable__control sk-hidden--visually\" id=\"sk-estimator-id-35\" type=\"checkbox\" checked><label for=\"sk-estimator-id-35\" class=\"sk-toggleable__label sk-toggleable__label-arrow\">LinearRegression</label><div class=\"sk-toggleable__content\"><pre>LinearRegression()</pre></div></div></div></div></div>"
      ],
      "text/plain": [
       "LinearRegression()"
      ]
     },
     "execution_count": 923,
     "metadata": {},
     "output_type": "execute_result"
    }
   ],
   "source": [
    "lr.fit(X_train, y_train)"
   ]
  },
  {
   "cell_type": "code",
   "execution_count": 924,
   "id": "48b95d93-7593-4368-acec-b72e5a9e77ba",
   "metadata": {},
   "outputs": [
    {
     "data": {
      "text/plain": [
       "0.8997623095264256"
      ]
     },
     "execution_count": 924,
     "metadata": {},
     "output_type": "execute_result"
    }
   ],
   "source": [
    "lr.score(X_train, y_train)"
   ]
  },
  {
   "cell_type": "code",
   "execution_count": 925,
   "id": "54df02d3-2d23-4400-8d01-6d4374590e8f",
   "metadata": {},
   "outputs": [
    {
     "data": {
      "text/plain": [
       "0.8997851296251422"
      ]
     },
     "execution_count": 925,
     "metadata": {},
     "output_type": "execute_result"
    }
   ],
   "source": [
    "lr.score(X_test, y_test)"
   ]
  },
  {
   "cell_type": "code",
   "execution_count": 926,
   "id": "54dace54-e45a-44c4-ad45-1041288417fa",
   "metadata": {},
   "outputs": [
    {
     "data": {
      "text/html": [
       "<style>#sk-container-id-36 {color: black;background-color: white;}#sk-container-id-36 pre{padding: 0;}#sk-container-id-36 div.sk-toggleable {background-color: white;}#sk-container-id-36 label.sk-toggleable__label {cursor: pointer;display: block;width: 100%;margin-bottom: 0;padding: 0.3em;box-sizing: border-box;text-align: center;}#sk-container-id-36 label.sk-toggleable__label-arrow:before {content: \"▸\";float: left;margin-right: 0.25em;color: #696969;}#sk-container-id-36 label.sk-toggleable__label-arrow:hover:before {color: black;}#sk-container-id-36 div.sk-estimator:hover label.sk-toggleable__label-arrow:before {color: black;}#sk-container-id-36 div.sk-toggleable__content {max-height: 0;max-width: 0;overflow: hidden;text-align: left;background-color: #f0f8ff;}#sk-container-id-36 div.sk-toggleable__content pre {margin: 0.2em;color: black;border-radius: 0.25em;background-color: #f0f8ff;}#sk-container-id-36 input.sk-toggleable__control:checked~div.sk-toggleable__content {max-height: 200px;max-width: 100%;overflow: auto;}#sk-container-id-36 input.sk-toggleable__control:checked~label.sk-toggleable__label-arrow:before {content: \"▾\";}#sk-container-id-36 div.sk-estimator input.sk-toggleable__control:checked~label.sk-toggleable__label {background-color: #d4ebff;}#sk-container-id-36 div.sk-label input.sk-toggleable__control:checked~label.sk-toggleable__label {background-color: #d4ebff;}#sk-container-id-36 input.sk-hidden--visually {border: 0;clip: rect(1px 1px 1px 1px);clip: rect(1px, 1px, 1px, 1px);height: 1px;margin: -1px;overflow: hidden;padding: 0;position: absolute;width: 1px;}#sk-container-id-36 div.sk-estimator {font-family: monospace;background-color: #f0f8ff;border: 1px dotted black;border-radius: 0.25em;box-sizing: border-box;margin-bottom: 0.5em;}#sk-container-id-36 div.sk-estimator:hover {background-color: #d4ebff;}#sk-container-id-36 div.sk-parallel-item::after {content: \"\";width: 100%;border-bottom: 1px solid gray;flex-grow: 1;}#sk-container-id-36 div.sk-label:hover label.sk-toggleable__label {background-color: #d4ebff;}#sk-container-id-36 div.sk-serial::before {content: \"\";position: absolute;border-left: 1px solid gray;box-sizing: border-box;top: 0;bottom: 0;left: 50%;z-index: 0;}#sk-container-id-36 div.sk-serial {display: flex;flex-direction: column;align-items: center;background-color: white;padding-right: 0.2em;padding-left: 0.2em;position: relative;}#sk-container-id-36 div.sk-item {position: relative;z-index: 1;}#sk-container-id-36 div.sk-parallel {display: flex;align-items: stretch;justify-content: center;background-color: white;position: relative;}#sk-container-id-36 div.sk-item::before, #sk-container-id-36 div.sk-parallel-item::before {content: \"\";position: absolute;border-left: 1px solid gray;box-sizing: border-box;top: 0;bottom: 0;left: 50%;z-index: -1;}#sk-container-id-36 div.sk-parallel-item {display: flex;flex-direction: column;z-index: 1;position: relative;background-color: white;}#sk-container-id-36 div.sk-parallel-item:first-child::after {align-self: flex-end;width: 50%;}#sk-container-id-36 div.sk-parallel-item:last-child::after {align-self: flex-start;width: 50%;}#sk-container-id-36 div.sk-parallel-item:only-child::after {width: 0;}#sk-container-id-36 div.sk-dashed-wrapped {border: 1px dashed gray;margin: 0 0.4em 0.5em 0.4em;box-sizing: border-box;padding-bottom: 0.4em;background-color: white;}#sk-container-id-36 div.sk-label label {font-family: monospace;font-weight: bold;display: inline-block;line-height: 1.2em;}#sk-container-id-36 div.sk-label-container {text-align: center;}#sk-container-id-36 div.sk-container {/* jupyter's `normalize.less` sets `[hidden] { display: none; }` but bootstrap.min.css set `[hidden] { display: none !important; }` so we also need the `!important` here to be able to override the default hidden behavior on the sphinx rendered scikit-learn.org. See: https://github.com/scikit-learn/scikit-learn/issues/21755 */display: inline-block !important;position: relative;}#sk-container-id-36 div.sk-text-repr-fallback {display: none;}</style><div id=\"sk-container-id-36\" class=\"sk-top-container\"><div class=\"sk-text-repr-fallback\"><pre>LinearRegression()</pre><b>In a Jupyter environment, please rerun this cell to show the HTML representation or trust the notebook. <br />On GitHub, the HTML representation is unable to render, please try loading this page with nbviewer.org.</b></div><div class=\"sk-container\" hidden><div class=\"sk-item\"><div class=\"sk-estimator sk-toggleable\"><input class=\"sk-toggleable__control sk-hidden--visually\" id=\"sk-estimator-id-36\" type=\"checkbox\" checked><label for=\"sk-estimator-id-36\" class=\"sk-toggleable__label sk-toggleable__label-arrow\">LinearRegression</label><div class=\"sk-toggleable__content\"><pre>LinearRegression()</pre></div></div></div></div></div>"
      ],
      "text/plain": [
       "LinearRegression()"
      ]
     },
     "execution_count": 926,
     "metadata": {},
     "output_type": "execute_result"
    }
   ],
   "source": [
    "lr = LinearRegression()\n",
    "lr.fit(X, y) "
   ]
  },
  {
   "cell_type": "code",
   "execution_count": 927,
   "id": "3dd30c8e-54ab-4546-b86a-af25476fa18e",
   "metadata": {},
   "outputs": [],
   "source": [
    "df_test['SalePrice'] = lr.predict(df_test)"
   ]
  },
  {
   "cell_type": "code",
   "execution_count": 928,
   "id": "c0817f5d-1b5a-497f-b653-32c4aae724b8",
   "metadata": {},
   "outputs": [],
   "source": [
    "y_pred = lr.predict(X_train)\n",
    "resids = y_train - y_pred"
   ]
  },
  {
   "cell_type": "markdown",
   "id": "fcce4ad0-80a0-433b-a1e3-d24434ba604a",
   "metadata": {},
   "source": [
    "## Cross Validation Score "
   ]
  },
  {
   "cell_type": "code",
   "execution_count": 929,
   "id": "780caceb-3386-4c13-a9ee-eda6d4d73769",
   "metadata": {},
   "outputs": [
    {
     "data": {
      "text/plain": [
       "0.8620603787980059"
      ]
     },
     "execution_count": 929,
     "metadata": {},
     "output_type": "execute_result"
    }
   ],
   "source": [
    "np.mean(cross_val_score(lr, X, y, cv=5))"
   ]
  },
  {
   "cell_type": "code",
   "execution_count": null,
   "id": "5f572915-c5e4-48ea-b2f8-4624dfd09fa7",
   "metadata": {},
   "outputs": [],
   "source": []
  },
  {
   "cell_type": "code",
   "execution_count": null,
   "id": "65849e5d-7351-49a7-afb0-ee06798112f4",
   "metadata": {},
   "outputs": [],
   "source": []
  },
  {
   "cell_type": "code",
   "execution_count": null,
   "id": "c4e8ad87-6bd3-43b5-bb66-94b400438e10",
   "metadata": {},
   "outputs": [],
   "source": []
  },
  {
   "cell_type": "code",
   "execution_count": null,
   "id": "777c1eb8-4653-49c3-a015-7c2a34b35bc0",
   "metadata": {},
   "outputs": [],
   "source": []
  },
  {
   "cell_type": "code",
   "execution_count": null,
   "id": "57c94c13-cba9-405d-a6fa-d6a9c94452ad",
   "metadata": {},
   "outputs": [],
   "source": []
  },
  {
   "cell_type": "code",
   "execution_count": null,
   "id": "7bb2b105-d128-4f2e-ad7c-0eb4e2ab6847",
   "metadata": {},
   "outputs": [],
   "source": []
  },
  {
   "cell_type": "code",
   "execution_count": null,
   "id": "3da79ca7-b7e6-4080-9d60-5827ce813d68",
   "metadata": {},
   "outputs": [],
   "source": []
  },
  {
   "cell_type": "code",
   "execution_count": 930,
   "id": "b1195228-fcdc-4caf-a3af-1658b3e00f66",
   "metadata": {},
   "outputs": [],
   "source": [
    "submission = df_test[['Id', 'SalePrice']]\n"
   ]
  },
  {
   "cell_type": "code",
   "execution_count": 931,
   "id": "05323aba-9b89-45bc-8a5e-1debd89ce75c",
   "metadata": {
    "tags": []
   },
   "outputs": [
    {
     "data": {
      "text/html": [
       "<div>\n",
       "<style scoped>\n",
       "    .dataframe tbody tr th:only-of-type {\n",
       "        vertical-align: middle;\n",
       "    }\n",
       "\n",
       "    .dataframe tbody tr th {\n",
       "        vertical-align: top;\n",
       "    }\n",
       "\n",
       "    .dataframe thead th {\n",
       "        text-align: right;\n",
       "    }\n",
       "</style>\n",
       "<table border=\"1\" class=\"dataframe\">\n",
       "  <thead>\n",
       "    <tr style=\"text-align: right;\">\n",
       "      <th></th>\n",
       "      <th>SalePrice</th>\n",
       "    </tr>\n",
       "    <tr>\n",
       "      <th>Id</th>\n",
       "      <th></th>\n",
       "    </tr>\n",
       "  </thead>\n",
       "  <tbody>\n",
       "    <tr>\n",
       "      <th>2658</th>\n",
       "      <td>146113.267190</td>\n",
       "    </tr>\n",
       "    <tr>\n",
       "      <th>2718</th>\n",
       "      <td>158336.685187</td>\n",
       "    </tr>\n",
       "    <tr>\n",
       "      <th>2414</th>\n",
       "      <td>219507.330055</td>\n",
       "    </tr>\n",
       "    <tr>\n",
       "      <th>1989</th>\n",
       "      <td>112780.468937</td>\n",
       "    </tr>\n",
       "    <tr>\n",
       "      <th>625</th>\n",
       "      <td>180967.189712</td>\n",
       "    </tr>\n",
       "    <tr>\n",
       "      <th>...</th>\n",
       "      <td>...</td>\n",
       "    </tr>\n",
       "    <tr>\n",
       "      <th>1662</th>\n",
       "      <td>183782.390356</td>\n",
       "    </tr>\n",
       "    <tr>\n",
       "      <th>1234</th>\n",
       "      <td>215301.726944</td>\n",
       "    </tr>\n",
       "    <tr>\n",
       "      <th>1373</th>\n",
       "      <td>128967.529809</td>\n",
       "    </tr>\n",
       "    <tr>\n",
       "      <th>1672</th>\n",
       "      <td>119572.018006</td>\n",
       "    </tr>\n",
       "    <tr>\n",
       "      <th>1939</th>\n",
       "      <td>131462.437029</td>\n",
       "    </tr>\n",
       "  </tbody>\n",
       "</table>\n",
       "<p>878 rows × 1 columns</p>\n",
       "</div>"
      ],
      "text/plain": [
       "          SalePrice\n",
       "Id                 \n",
       "2658  146113.267190\n",
       "2718  158336.685187\n",
       "2414  219507.330055\n",
       "1989  112780.468937\n",
       "625   180967.189712\n",
       "...             ...\n",
       "1662  183782.390356\n",
       "1234  215301.726944\n",
       "1373  128967.529809\n",
       "1672  119572.018006\n",
       "1939  131462.437029\n",
       "\n",
       "[878 rows x 1 columns]"
      ]
     },
     "execution_count": 931,
     "metadata": {},
     "output_type": "execute_result"
    }
   ],
   "source": [
    "submission.set_index('Id', inplace =True) \n",
    "submission"
   ]
  },
  {
   "cell_type": "code",
   "execution_count": 932,
   "id": "742fdbe5-ab97-4efc-b3a1-107d11088afd",
   "metadata": {},
   "outputs": [],
   "source": [
    "submission.to_csv('sub12.csv') "
   ]
  },
  {
   "cell_type": "code",
   "execution_count": null,
   "id": "03e94e2e-5b61-4c88-9f16-eb8beccb91bf",
   "metadata": {},
   "outputs": [],
   "source": []
  },
  {
   "cell_type": "code",
   "execution_count": null,
   "id": "a26ba714-dc9d-4b1b-af74-3f8ee69ab40e",
   "metadata": {},
   "outputs": [],
   "source": []
  }
 ],
 "metadata": {
  "kernelspec": {
   "display_name": "Python 3 (ipykernel)",
   "language": "python",
   "name": "python3"
  },
  "language_info": {
   "codemirror_mode": {
    "name": "ipython",
    "version": 3
   },
   "file_extension": ".py",
   "mimetype": "text/x-python",
   "name": "python",
   "nbconvert_exporter": "python",
   "pygments_lexer": "ipython3",
   "version": "3.10.9"
  }
 },
 "nbformat": 4,
 "nbformat_minor": 5
}
