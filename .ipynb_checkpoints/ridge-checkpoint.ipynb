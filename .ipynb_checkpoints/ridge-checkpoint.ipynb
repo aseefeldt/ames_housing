{
 "cells": [
  {
   "cell_type": "code",
   "execution_count": 175,
   "id": "8ca8dcfb-1ad0-472f-b324-4caef8253645",
   "metadata": {},
   "outputs": [],
   "source": [
    "#imports \n",
    "import pandas as pd\n",
    "import numpy as np \n",
    "import matplotlib.pyplot as plt\n",
    "import seaborn as sns\n",
    "\n",
    "from sklearn.model_selection import train_test_split\n",
    "from sklearn.linear_model import LinearRegression"
   ]
  },
  {
   "cell_type": "code",
   "execution_count": 176,
   "id": "254c691d-b211-409b-8465-11111a85307b",
   "metadata": {},
   "outputs": [],
   "source": [
    "#reading in dataset train \n",
    "df = pd.read_csv('./datasets/train.csv')\n",
    "df_test = pd.read_csv('datasets/test.csv')"
   ]
  },
  {
   "cell_type": "markdown",
   "id": "73aef7fb-ab54-4170-b526-daa6f403e372",
   "metadata": {},
   "source": [
    "my first run was good enough to get me into 3rd (for now), but it was over fit.  This attemp will try to fix that"
   ]
  },
  {
   "cell_type": "markdown",
   "id": "8e91478e-4a4d-4bdc-a004-a5b838dc5c24",
   "metadata": {},
   "source": [
    "Creating Function for EDA to make future me happy, i am keeping this the same for this run \n"
   ]
  },
  {
   "cell_type": "code",
   "execution_count": 177,
   "id": "598918e2-6859-46b1-9767-b817a651a4d0",
   "metadata": {},
   "outputs": [],
   "source": [
    "#first lets create the function and some dummies \n",
    "def eda_function (df): \n",
    "    # replacing NAN in lot frontage with mean to reduce outlyers and still give a data point \n",
    "    df['Lot Frontage'].fillna(value=(df['Lot Frontage'].mean()), inplace = True)\n",
    "    \n",
    "    # replacing NAN in garage year with mean to reduce outlyers and still give a data point \n",
    "    df['Garage Yr Blt'].fillna(value=(df['Garage Yr Blt'].mean()), inplace = True)\n",
    "    \n",
    "    #replacing mason area with 0 as it is likely to be the case and it will not create an outlyer\n",
    "    df['Mas Vnr Area'].fillna(value=(df['Mas Vnr Area'].mean()), inplace = True)\n",
    "\n",
    "    #making catagories into dummies \n",
    "    df = pd.get_dummies(df, columns =['MS SubClass', 'MS Zoning',\n",
    "       'Street', 'Alley', 'Lot Shape', 'Land Contour',\n",
    "       'Utilities', 'Lot Config', 'Land Slope', 'Neighborhood',\n",
    "       'Condition 1', 'Condition 2', 'Bldg Type', 'House Style',\n",
    "       'Overall Qual', 'Overall Cond',\n",
    "       'Roof Style', 'Roof Matl', 'Exterior 1st', 'Exterior 2nd',\n",
    "       'Mas Vnr Type', 'Exter Qual', 'Exter Cond',\n",
    "       'Foundation', 'Bsmt Qual', 'Bsmt Cond', 'Bsmt Exposure',\n",
    "       'BsmtFin Type 1', 'BsmtFin Type 2', 'Heating', 'Heating QC',\n",
    "       'Central Air', 'Electrical','Kitchen Qual', 'Functional', 'Fireplace Qu', 'Garage Type',\n",
    "       'Garage Finish', 'Garage Qual',\n",
    "       'Garage Cond', 'Paved Drive',\n",
    "       'Pool QC', 'Fence', 'Misc Feature', 'Sale Type'])\n",
    "    #replacing all other NAs with zero  https://sparkbyexamples.com/pandas/pandas-replace-nan-values-by-zero-in-a-column/#:~:text=Replace%20NaN%20Values%20with%20Zero%20on%20pandas%20DataFrame,but%20returns%20a%20new%20DataFrame.\n",
    "    df = df.fillna(0) \n",
    "    \n",
    "    return df"
   ]
  },
  {
   "cell_type": "markdown",
   "id": "1b237744-a062-469d-9e7e-692f25f1391f",
   "metadata": {},
   "source": [
    "sending info thorugh the function "
   ]
  },
  {
   "cell_type": "code",
   "execution_count": 178,
   "id": "247e1d9e-1f2b-4418-b131-f8cb18a1f265",
   "metadata": {},
   "outputs": [],
   "source": [
    "df_test = eda_function(df_test) "
   ]
  },
  {
   "cell_type": "code",
   "execution_count": 179,
   "id": "d0213a18-5c54-4f9a-8da4-e4a76a49fc46",
   "metadata": {},
   "outputs": [],
   "source": [
    "df = eda_function(df) "
   ]
  },
  {
   "cell_type": "markdown",
   "id": "ada3f9e1-c69e-4ce7-a865-3d3093d6a529",
   "metadata": {},
   "source": [
    "dropping columns that are not in both sets "
   ]
  },
  {
   "cell_type": "code",
   "execution_count": 180,
   "id": "77cedf65-e780-4b46-8238-9d9cad41a3a7",
   "metadata": {},
   "outputs": [
    {
     "data": {
      "text/plain": [
       "['Utilities_NoSeWa',\n",
       " 'Overall Qual_1',\n",
       " 'Garage Qual_Ex',\n",
       " 'Condition 2_RRAn',\n",
       " 'SalePrice',\n",
       " 'Bsmt Cond_Ex',\n",
       " 'Heating QC_Po',\n",
       " 'Roof Matl_ClyTile',\n",
       " 'Functional_Sal',\n",
       " 'Roof Matl_Membran',\n",
       " 'Neighborhood_Landmrk',\n",
       " 'Condition 2_RRNn',\n",
       " 'Heating_OthW',\n",
       " 'Functional_Sev',\n",
       " 'Bsmt Cond_Po',\n",
       " 'MS Zoning_A (agr)',\n",
       " 'Exterior 1st_ImStucc',\n",
       " 'Exterior 1st_CBlock',\n",
       " 'Exterior 2nd_Stone',\n",
       " 'Misc Feature_Elev',\n",
       " 'Neighborhood_GrnHill',\n",
       " 'Condition 2_PosN',\n",
       " 'Misc Feature_TenC',\n",
       " 'Exterior 1st_Stone',\n",
       " 'Condition 2_Artery',\n",
       " 'Condition 2_RRAe',\n",
       " 'Pool QC_Fa',\n",
       " 'Pool QC_Gd',\n",
       " 'Heating_Wall',\n",
       " 'Electrical_Mix',\n",
       " 'MS SubClass_150']"
      ]
     },
     "execution_count": 180,
     "metadata": {},
     "output_type": "execute_result"
    }
   ],
   "source": [
    "#finding those values  https://www.askpython.com/python/list/difference-between-two-lists-unique-entries#:~:text=In%20Python%2C%20to%20find%20the,unique%20entries%20from%20both%20lists.\n",
    "list(set(df.columns.values) - set(df_test.columns.values))\n",
    "    "
   ]
  },
  {
   "cell_type": "code",
   "execution_count": 181,
   "id": "64d46ba2-355a-4b14-a1fc-93e1700f84ed",
   "metadata": {},
   "outputs": [],
   "source": [
    "df_test = df_test.drop(columns = ['Kitchen Qual_Po',\n",
    " 'Roof Matl_Metal',\n",
    " 'Exterior 2nd_Other',\n",
    " 'Exterior 2nd_PreCast',\n",
    " 'Roof Matl_Roll',\n",
    " 'Sale Type_VWD',\n",
    " 'Mas Vnr Type_CBlock',\n",
    " 'Heating_Floor',\n",
    " 'Exterior 1st_PreCast'])"
   ]
  },
  {
   "cell_type": "code",
   "execution_count": 182,
   "id": "5fddf75f-0aad-42be-96af-fd88ef841aa1",
   "metadata": {},
   "outputs": [],
   "source": [
    "df =df.drop(columns = ['Bsmt Cond_Ex',\n",
    " 'Misc Feature_Elev',\n",
    " 'MS Zoning_A (agr)',\n",
    " 'Garage Qual_Ex',\n",
    " 'Neighborhood_Landmrk',\n",
    " 'Misc Feature_TenC',\n",
    " 'Utilities_NoSeWa',\n",
    " 'Neighborhood_GrnHill',\n",
    " 'Exterior 1st_ImStucc',\n",
    " 'Condition 2_RRAe',\n",
    " 'Roof Matl_Membran',\n",
    " 'Heating_Wall',\n",
    " 'Electrical_Mix',\n",
    " 'Condition 2_PosN',\n",
    " 'Pool QC_Gd',\n",
    " 'Condition 2_Artery',\n",
    " 'Heating QC_Po',\n",
    " 'Functional_Sal',\n",
    " 'Condition 2_RRAn',\n",
    " 'Exterior 1st_Stone',\n",
    " 'Bsmt Cond_Po',\n",
    " 'MS SubClass_150',\n",
    " 'Exterior 1st_CBlock',\n",
    " 'Pool QC_Fa',\n",
    " 'Functional_Sev',\n",
    " 'Heating_OthW',\n",
    " 'Exterior 2nd_Stone',\n",
    " 'Roof Matl_ClyTile',\n",
    " 'Condition 2_RRNn',\n",
    " 'Overall Qual_1'])"
   ]
  },
  {
   "cell_type": "markdown",
   "id": "51c0af1c-bcfb-423c-aa02-a50a68c29b95",
   "metadata": {},
   "source": [
    "Correlation.  I am going to look at corr and take out the values in the middle "
   ]
  },
  {
   "cell_type": "code",
   "execution_count": 183,
   "id": "ad20e936-c8cf-4fdd-bfdb-e26d5138b684",
   "metadata": {},
   "outputs": [],
   "source": [
    "corr = (df.corr()[['SalePrice']].sort_values(by = \"SalePrice\", ascending = False))\n",
    "corr = corr[50:-50].index\n",
    "corr = corr.drop('Id')"
   ]
  },
  {
   "cell_type": "code",
   "execution_count": 184,
   "id": "4e10592d-736a-4d20-99bb-c1be59fb2309",
   "metadata": {},
   "outputs": [
    {
     "data": {
      "text/plain": [
       "Index(['Electrical_SBrkr', 'Garage Qual_TA', '2nd Flr SF', 'Fireplace Qu_Ex',\n",
       "       'MS Zoning_RL', 'Bsmt Qual_Gd', 'Garage Type_BuiltIn',\n",
       "       'Land Contour_HLS', 'House Style_2Story', 'Bsmt Unf SF',\n",
       "       ...\n",
       "       'Heating QC_Gd', 'Foundation_Slab', 'BsmtFin Type 1_Unf',\n",
       "       'Condition 1_Artery', 'Kitchen AbvGr', 'MS Zoning_C (all)',\n",
       "       'Exterior 1st_AsbShng', 'Overall Cond_7', 'Electrical_FuseF',\n",
       "       'BsmtFin Type 1_BLQ'],\n",
       "      dtype='object', length=193)"
      ]
     },
     "execution_count": 184,
     "metadata": {},
     "output_type": "execute_result"
    }
   ],
   "source": [
    "corr"
   ]
  },
  {
   "cell_type": "code",
   "execution_count": 185,
   "id": "ef25d8dc-96a1-47c0-857e-8c8887d3fd72",
   "metadata": {},
   "outputs": [],
   "source": [
    "df =df.drop(columns = corr)"
   ]
  },
  {
   "cell_type": "code",
   "execution_count": 186,
   "id": "377d825a-d0de-48b7-9a70-58eb98d16ad7",
   "metadata": {},
   "outputs": [],
   "source": [
    "df_test = df_test.drop(columns = corr)"
   ]
  },
  {
   "cell_type": "markdown",
   "id": "052a5489-7195-4984-9404-0f19ef0ce632",
   "metadata": {},
   "source": [
    "Seeing what corr is left with a heatmap "
   ]
  },
  {
   "cell_type": "code",
   "execution_count": 187,
   "id": "ef56cb70-47a0-4c41-b9d2-2d6945984c48",
   "metadata": {},
   "outputs": [
    {
     "data": {
      "text/html": [
       "<div>\n",
       "<style scoped>\n",
       "    .dataframe tbody tr th:only-of-type {\n",
       "        vertical-align: middle;\n",
       "    }\n",
       "\n",
       "    .dataframe tbody tr th {\n",
       "        vertical-align: top;\n",
       "    }\n",
       "\n",
       "    .dataframe thead th {\n",
       "        text-align: right;\n",
       "    }\n",
       "</style>\n",
       "<table border=\"1\" class=\"dataframe\">\n",
       "  <thead>\n",
       "    <tr style=\"text-align: right;\">\n",
       "      <th></th>\n",
       "      <th>SalePrice</th>\n",
       "    </tr>\n",
       "  </thead>\n",
       "  <tbody>\n",
       "    <tr>\n",
       "      <th>SalePrice</th>\n",
       "      <td>1.000000</td>\n",
       "    </tr>\n",
       "    <tr>\n",
       "      <th>Gr Liv Area</th>\n",
       "      <td>0.697038</td>\n",
       "    </tr>\n",
       "    <tr>\n",
       "      <th>Garage Area</th>\n",
       "      <td>0.649897</td>\n",
       "    </tr>\n",
       "    <tr>\n",
       "      <th>Garage Cars</th>\n",
       "      <td>0.647781</td>\n",
       "    </tr>\n",
       "    <tr>\n",
       "      <th>Total Bsmt SF</th>\n",
       "      <td>0.629303</td>\n",
       "    </tr>\n",
       "    <tr>\n",
       "      <th>...</th>\n",
       "      <td>...</td>\n",
       "    </tr>\n",
       "    <tr>\n",
       "      <th>Mas Vnr Type_None</th>\n",
       "      <td>-0.424088</td>\n",
       "    </tr>\n",
       "    <tr>\n",
       "      <th>Garage Finish_Unf</th>\n",
       "      <td>-0.432220</td>\n",
       "    </tr>\n",
       "    <tr>\n",
       "      <th>Bsmt Qual_TA</th>\n",
       "      <td>-0.456979</td>\n",
       "    </tr>\n",
       "    <tr>\n",
       "      <th>Kitchen Qual_TA</th>\n",
       "      <td>-0.540860</td>\n",
       "    </tr>\n",
       "    <tr>\n",
       "      <th>Exter Qual_TA</th>\n",
       "      <td>-0.600362</td>\n",
       "    </tr>\n",
       "  </tbody>\n",
       "</table>\n",
       "<p>101 rows × 1 columns</p>\n",
       "</div>"
      ],
      "text/plain": [
       "                   SalePrice\n",
       "SalePrice           1.000000\n",
       "Gr Liv Area         0.697038\n",
       "Garage Area         0.649897\n",
       "Garage Cars         0.647781\n",
       "Total Bsmt SF       0.629303\n",
       "...                      ...\n",
       "Mas Vnr Type_None  -0.424088\n",
       "Garage Finish_Unf  -0.432220\n",
       "Bsmt Qual_TA       -0.456979\n",
       "Kitchen Qual_TA    -0.540860\n",
       "Exter Qual_TA      -0.600362\n",
       "\n",
       "[101 rows x 1 columns]"
      ]
     },
     "execution_count": 187,
     "metadata": {},
     "output_type": "execute_result"
    }
   ],
   "source": [
    "df.corr()[['SalePrice']].sort_values(by=['SalePrice'], ascending=False)\n",
    "                     "
   ]
  },
  {
   "cell_type": "code",
   "execution_count": null,
   "id": "28654f1c-3a7e-44e9-a869-cbeb69e5c63e",
   "metadata": {},
   "outputs": [],
   "source": []
  },
  {
   "cell_type": "code",
   "execution_count": null,
   "id": "d4b349f3-dbff-4f92-ac02-a837c1e9b47d",
   "metadata": {},
   "outputs": [],
   "source": []
  },
  {
   "cell_type": "markdown",
   "id": "76932f14-a5ce-4ca4-b4f1-82352cea0700",
   "metadata": {},
   "source": [
    "fitting the model "
   ]
  },
  {
   "cell_type": "code",
   "execution_count": 188,
   "id": "2742a2e0-b01f-44ed-b718-1e530f063e70",
   "metadata": {},
   "outputs": [],
   "source": [
    "X = df.drop(columns=['SalePrice'])\n",
    "y = df['SalePrice'] "
   ]
  },
  {
   "cell_type": "code",
   "execution_count": 189,
   "id": "14aa6187-944b-4728-968d-3c3cef52ad38",
   "metadata": {},
   "outputs": [],
   "source": [
    "X_train, X_test, y_train, y_test = train_test_split(X, y, random_state=2023)"
   ]
  },
  {
   "cell_type": "code",
   "execution_count": 190,
   "id": "94213893-f1e8-49e1-a217-0ad101198516",
   "metadata": {},
   "outputs": [],
   "source": [
    "lr = LinearRegression()"
   ]
  },
  {
   "cell_type": "code",
   "execution_count": 191,
   "id": "43353f58-b516-4ea3-9067-811a26c3ecda",
   "metadata": {},
   "outputs": [
    {
     "data": {
      "text/html": [
       "<style>#sk-container-id-13 {color: black;background-color: white;}#sk-container-id-13 pre{padding: 0;}#sk-container-id-13 div.sk-toggleable {background-color: white;}#sk-container-id-13 label.sk-toggleable__label {cursor: pointer;display: block;width: 100%;margin-bottom: 0;padding: 0.3em;box-sizing: border-box;text-align: center;}#sk-container-id-13 label.sk-toggleable__label-arrow:before {content: \"▸\";float: left;margin-right: 0.25em;color: #696969;}#sk-container-id-13 label.sk-toggleable__label-arrow:hover:before {color: black;}#sk-container-id-13 div.sk-estimator:hover label.sk-toggleable__label-arrow:before {color: black;}#sk-container-id-13 div.sk-toggleable__content {max-height: 0;max-width: 0;overflow: hidden;text-align: left;background-color: #f0f8ff;}#sk-container-id-13 div.sk-toggleable__content pre {margin: 0.2em;color: black;border-radius: 0.25em;background-color: #f0f8ff;}#sk-container-id-13 input.sk-toggleable__control:checked~div.sk-toggleable__content {max-height: 200px;max-width: 100%;overflow: auto;}#sk-container-id-13 input.sk-toggleable__control:checked~label.sk-toggleable__label-arrow:before {content: \"▾\";}#sk-container-id-13 div.sk-estimator input.sk-toggleable__control:checked~label.sk-toggleable__label {background-color: #d4ebff;}#sk-container-id-13 div.sk-label input.sk-toggleable__control:checked~label.sk-toggleable__label {background-color: #d4ebff;}#sk-container-id-13 input.sk-hidden--visually {border: 0;clip: rect(1px 1px 1px 1px);clip: rect(1px, 1px, 1px, 1px);height: 1px;margin: -1px;overflow: hidden;padding: 0;position: absolute;width: 1px;}#sk-container-id-13 div.sk-estimator {font-family: monospace;background-color: #f0f8ff;border: 1px dotted black;border-radius: 0.25em;box-sizing: border-box;margin-bottom: 0.5em;}#sk-container-id-13 div.sk-estimator:hover {background-color: #d4ebff;}#sk-container-id-13 div.sk-parallel-item::after {content: \"\";width: 100%;border-bottom: 1px solid gray;flex-grow: 1;}#sk-container-id-13 div.sk-label:hover label.sk-toggleable__label {background-color: #d4ebff;}#sk-container-id-13 div.sk-serial::before {content: \"\";position: absolute;border-left: 1px solid gray;box-sizing: border-box;top: 0;bottom: 0;left: 50%;z-index: 0;}#sk-container-id-13 div.sk-serial {display: flex;flex-direction: column;align-items: center;background-color: white;padding-right: 0.2em;padding-left: 0.2em;position: relative;}#sk-container-id-13 div.sk-item {position: relative;z-index: 1;}#sk-container-id-13 div.sk-parallel {display: flex;align-items: stretch;justify-content: center;background-color: white;position: relative;}#sk-container-id-13 div.sk-item::before, #sk-container-id-13 div.sk-parallel-item::before {content: \"\";position: absolute;border-left: 1px solid gray;box-sizing: border-box;top: 0;bottom: 0;left: 50%;z-index: -1;}#sk-container-id-13 div.sk-parallel-item {display: flex;flex-direction: column;z-index: 1;position: relative;background-color: white;}#sk-container-id-13 div.sk-parallel-item:first-child::after {align-self: flex-end;width: 50%;}#sk-container-id-13 div.sk-parallel-item:last-child::after {align-self: flex-start;width: 50%;}#sk-container-id-13 div.sk-parallel-item:only-child::after {width: 0;}#sk-container-id-13 div.sk-dashed-wrapped {border: 1px dashed gray;margin: 0 0.4em 0.5em 0.4em;box-sizing: border-box;padding-bottom: 0.4em;background-color: white;}#sk-container-id-13 div.sk-label label {font-family: monospace;font-weight: bold;display: inline-block;line-height: 1.2em;}#sk-container-id-13 div.sk-label-container {text-align: center;}#sk-container-id-13 div.sk-container {/* jupyter's `normalize.less` sets `[hidden] { display: none; }` but bootstrap.min.css set `[hidden] { display: none !important; }` so we also need the `!important` here to be able to override the default hidden behavior on the sphinx rendered scikit-learn.org. See: https://github.com/scikit-learn/scikit-learn/issues/21755 */display: inline-block !important;position: relative;}#sk-container-id-13 div.sk-text-repr-fallback {display: none;}</style><div id=\"sk-container-id-13\" class=\"sk-top-container\"><div class=\"sk-text-repr-fallback\"><pre>LinearRegression()</pre><b>In a Jupyter environment, please rerun this cell to show the HTML representation or trust the notebook. <br />On GitHub, the HTML representation is unable to render, please try loading this page with nbviewer.org.</b></div><div class=\"sk-container\" hidden><div class=\"sk-item\"><div class=\"sk-estimator sk-toggleable\"><input class=\"sk-toggleable__control sk-hidden--visually\" id=\"sk-estimator-id-13\" type=\"checkbox\" checked><label for=\"sk-estimator-id-13\" class=\"sk-toggleable__label sk-toggleable__label-arrow\">LinearRegression</label><div class=\"sk-toggleable__content\"><pre>LinearRegression()</pre></div></div></div></div></div>"
      ],
      "text/plain": [
       "LinearRegression()"
      ]
     },
     "execution_count": 191,
     "metadata": {},
     "output_type": "execute_result"
    }
   ],
   "source": [
    "lr.fit(X_train, y_train)"
   ]
  },
  {
   "cell_type": "code",
   "execution_count": 192,
   "id": "48b95d93-7593-4368-acec-b72e5a9e77ba",
   "metadata": {},
   "outputs": [
    {
     "data": {
      "text/plain": [
       "0.9015566192632274"
      ]
     },
     "execution_count": 192,
     "metadata": {},
     "output_type": "execute_result"
    }
   ],
   "source": [
    "lr.score(X_train, y_train)"
   ]
  },
  {
   "cell_type": "code",
   "execution_count": 193,
   "id": "54df02d3-2d23-4400-8d01-6d4374590e8f",
   "metadata": {},
   "outputs": [
    {
     "data": {
      "text/plain": [
       "0.784703063985284"
      ]
     },
     "execution_count": 193,
     "metadata": {},
     "output_type": "execute_result"
    }
   ],
   "source": [
    "lr.score(X_test, y_test)"
   ]
  },
  {
   "cell_type": "code",
   "execution_count": 194,
   "id": "54dace54-e45a-44c4-ad45-1041288417fa",
   "metadata": {},
   "outputs": [
    {
     "data": {
      "text/html": [
       "<style>#sk-container-id-14 {color: black;background-color: white;}#sk-container-id-14 pre{padding: 0;}#sk-container-id-14 div.sk-toggleable {background-color: white;}#sk-container-id-14 label.sk-toggleable__label {cursor: pointer;display: block;width: 100%;margin-bottom: 0;padding: 0.3em;box-sizing: border-box;text-align: center;}#sk-container-id-14 label.sk-toggleable__label-arrow:before {content: \"▸\";float: left;margin-right: 0.25em;color: #696969;}#sk-container-id-14 label.sk-toggleable__label-arrow:hover:before {color: black;}#sk-container-id-14 div.sk-estimator:hover label.sk-toggleable__label-arrow:before {color: black;}#sk-container-id-14 div.sk-toggleable__content {max-height: 0;max-width: 0;overflow: hidden;text-align: left;background-color: #f0f8ff;}#sk-container-id-14 div.sk-toggleable__content pre {margin: 0.2em;color: black;border-radius: 0.25em;background-color: #f0f8ff;}#sk-container-id-14 input.sk-toggleable__control:checked~div.sk-toggleable__content {max-height: 200px;max-width: 100%;overflow: auto;}#sk-container-id-14 input.sk-toggleable__control:checked~label.sk-toggleable__label-arrow:before {content: \"▾\";}#sk-container-id-14 div.sk-estimator input.sk-toggleable__control:checked~label.sk-toggleable__label {background-color: #d4ebff;}#sk-container-id-14 div.sk-label input.sk-toggleable__control:checked~label.sk-toggleable__label {background-color: #d4ebff;}#sk-container-id-14 input.sk-hidden--visually {border: 0;clip: rect(1px 1px 1px 1px);clip: rect(1px, 1px, 1px, 1px);height: 1px;margin: -1px;overflow: hidden;padding: 0;position: absolute;width: 1px;}#sk-container-id-14 div.sk-estimator {font-family: monospace;background-color: #f0f8ff;border: 1px dotted black;border-radius: 0.25em;box-sizing: border-box;margin-bottom: 0.5em;}#sk-container-id-14 div.sk-estimator:hover {background-color: #d4ebff;}#sk-container-id-14 div.sk-parallel-item::after {content: \"\";width: 100%;border-bottom: 1px solid gray;flex-grow: 1;}#sk-container-id-14 div.sk-label:hover label.sk-toggleable__label {background-color: #d4ebff;}#sk-container-id-14 div.sk-serial::before {content: \"\";position: absolute;border-left: 1px solid gray;box-sizing: border-box;top: 0;bottom: 0;left: 50%;z-index: 0;}#sk-container-id-14 div.sk-serial {display: flex;flex-direction: column;align-items: center;background-color: white;padding-right: 0.2em;padding-left: 0.2em;position: relative;}#sk-container-id-14 div.sk-item {position: relative;z-index: 1;}#sk-container-id-14 div.sk-parallel {display: flex;align-items: stretch;justify-content: center;background-color: white;position: relative;}#sk-container-id-14 div.sk-item::before, #sk-container-id-14 div.sk-parallel-item::before {content: \"\";position: absolute;border-left: 1px solid gray;box-sizing: border-box;top: 0;bottom: 0;left: 50%;z-index: -1;}#sk-container-id-14 div.sk-parallel-item {display: flex;flex-direction: column;z-index: 1;position: relative;background-color: white;}#sk-container-id-14 div.sk-parallel-item:first-child::after {align-self: flex-end;width: 50%;}#sk-container-id-14 div.sk-parallel-item:last-child::after {align-self: flex-start;width: 50%;}#sk-container-id-14 div.sk-parallel-item:only-child::after {width: 0;}#sk-container-id-14 div.sk-dashed-wrapped {border: 1px dashed gray;margin: 0 0.4em 0.5em 0.4em;box-sizing: border-box;padding-bottom: 0.4em;background-color: white;}#sk-container-id-14 div.sk-label label {font-family: monospace;font-weight: bold;display: inline-block;line-height: 1.2em;}#sk-container-id-14 div.sk-label-container {text-align: center;}#sk-container-id-14 div.sk-container {/* jupyter's `normalize.less` sets `[hidden] { display: none; }` but bootstrap.min.css set `[hidden] { display: none !important; }` so we also need the `!important` here to be able to override the default hidden behavior on the sphinx rendered scikit-learn.org. See: https://github.com/scikit-learn/scikit-learn/issues/21755 */display: inline-block !important;position: relative;}#sk-container-id-14 div.sk-text-repr-fallback {display: none;}</style><div id=\"sk-container-id-14\" class=\"sk-top-container\"><div class=\"sk-text-repr-fallback\"><pre>LinearRegression()</pre><b>In a Jupyter environment, please rerun this cell to show the HTML representation or trust the notebook. <br />On GitHub, the HTML representation is unable to render, please try loading this page with nbviewer.org.</b></div><div class=\"sk-container\" hidden><div class=\"sk-item\"><div class=\"sk-estimator sk-toggleable\"><input class=\"sk-toggleable__control sk-hidden--visually\" id=\"sk-estimator-id-14\" type=\"checkbox\" checked><label for=\"sk-estimator-id-14\" class=\"sk-toggleable__label sk-toggleable__label-arrow\">LinearRegression</label><div class=\"sk-toggleable__content\"><pre>LinearRegression()</pre></div></div></div></div></div>"
      ],
      "text/plain": [
       "LinearRegression()"
      ]
     },
     "execution_count": 194,
     "metadata": {},
     "output_type": "execute_result"
    }
   ],
   "source": [
    "lr = LinearRegression()\n",
    "lr.fit(X, y) "
   ]
  },
  {
   "cell_type": "code",
   "execution_count": 195,
   "id": "3dd30c8e-54ab-4546-b86a-af25476fa18e",
   "metadata": {},
   "outputs": [],
   "source": [
    "df_test['SalePrice'] = lr.predict(df_test)"
   ]
  },
  {
   "cell_type": "code",
   "execution_count": 196,
   "id": "b1195228-fcdc-4caf-a3af-1658b3e00f66",
   "metadata": {},
   "outputs": [],
   "source": [
    "submission = df_test[['Id', 'SalePrice']]\n"
   ]
  },
  {
   "cell_type": "code",
   "execution_count": 197,
   "id": "05323aba-9b89-45bc-8a5e-1debd89ce75c",
   "metadata": {},
   "outputs": [
    {
     "data": {
      "text/html": [
       "<div>\n",
       "<style scoped>\n",
       "    .dataframe tbody tr th:only-of-type {\n",
       "        vertical-align: middle;\n",
       "    }\n",
       "\n",
       "    .dataframe tbody tr th {\n",
       "        vertical-align: top;\n",
       "    }\n",
       "\n",
       "    .dataframe thead th {\n",
       "        text-align: right;\n",
       "    }\n",
       "</style>\n",
       "<table border=\"1\" class=\"dataframe\">\n",
       "  <thead>\n",
       "    <tr style=\"text-align: right;\">\n",
       "      <th></th>\n",
       "      <th>SalePrice</th>\n",
       "    </tr>\n",
       "    <tr>\n",
       "      <th>Id</th>\n",
       "      <th></th>\n",
       "    </tr>\n",
       "  </thead>\n",
       "  <tbody>\n",
       "    <tr>\n",
       "      <th>2658</th>\n",
       "      <td>127585.583150</td>\n",
       "    </tr>\n",
       "    <tr>\n",
       "      <th>2718</th>\n",
       "      <td>161659.887496</td>\n",
       "    </tr>\n",
       "    <tr>\n",
       "      <th>2414</th>\n",
       "      <td>225816.229918</td>\n",
       "    </tr>\n",
       "    <tr>\n",
       "      <th>1989</th>\n",
       "      <td>103614.404726</td>\n",
       "    </tr>\n",
       "    <tr>\n",
       "      <th>625</th>\n",
       "      <td>163965.802614</td>\n",
       "    </tr>\n",
       "    <tr>\n",
       "      <th>...</th>\n",
       "      <td>...</td>\n",
       "    </tr>\n",
       "    <tr>\n",
       "      <th>1662</th>\n",
       "      <td>186099.249797</td>\n",
       "    </tr>\n",
       "    <tr>\n",
       "      <th>1234</th>\n",
       "      <td>217555.956267</td>\n",
       "    </tr>\n",
       "    <tr>\n",
       "      <th>1373</th>\n",
       "      <td>129581.377438</td>\n",
       "    </tr>\n",
       "    <tr>\n",
       "      <th>1672</th>\n",
       "      <td>112300.469488</td>\n",
       "    </tr>\n",
       "    <tr>\n",
       "      <th>1939</th>\n",
       "      <td>123325.821317</td>\n",
       "    </tr>\n",
       "  </tbody>\n",
       "</table>\n",
       "<p>878 rows × 1 columns</p>\n",
       "</div>"
      ],
      "text/plain": [
       "          SalePrice\n",
       "Id                 \n",
       "2658  127585.583150\n",
       "2718  161659.887496\n",
       "2414  225816.229918\n",
       "1989  103614.404726\n",
       "625   163965.802614\n",
       "...             ...\n",
       "1662  186099.249797\n",
       "1234  217555.956267\n",
       "1373  129581.377438\n",
       "1672  112300.469488\n",
       "1939  123325.821317\n",
       "\n",
       "[878 rows x 1 columns]"
      ]
     },
     "execution_count": 197,
     "metadata": {},
     "output_type": "execute_result"
    }
   ],
   "source": [
    "submission.set_index('Id', inplace =True) \n",
    "submission"
   ]
  },
  {
   "cell_type": "code",
   "execution_count": 198,
   "id": "742fdbe5-ab97-4efc-b3a1-107d11088afd",
   "metadata": {},
   "outputs": [],
   "source": [
    "submission.to_csv('sub4.csv') "
   ]
  },
  {
   "cell_type": "code",
   "execution_count": null,
   "id": "03e94e2e-5b61-4c88-9f16-eb8beccb91bf",
   "metadata": {},
   "outputs": [],
   "source": []
  }
 ],
 "metadata": {
  "kernelspec": {
   "display_name": "Python 3 (ipykernel)",
   "language": "python",
   "name": "python3"
  },
  "language_info": {
   "codemirror_mode": {
    "name": "ipython",
    "version": 3
   },
   "file_extension": ".py",
   "mimetype": "text/x-python",
   "name": "python",
   "nbconvert_exporter": "python",
   "pygments_lexer": "ipython3",
   "version": "3.10.9"
  }
 },
 "nbformat": 4,
 "nbformat_minor": 5
}
