{
 "cells": [
  {
   "cell_type": "code",
   "execution_count": 513,
   "id": "8ca8dcfb-1ad0-472f-b324-4caef8253645",
   "metadata": {},
   "outputs": [],
   "source": [
    "#imports \n",
    "import pandas as pd\n",
    "import numpy as np \n",
    "import matplotlib.pyplot as plt\n",
    "import seaborn as sns\n"
   ]
  },
  {
   "cell_type": "code",
   "execution_count": 514,
   "id": "254c691d-b211-409b-8465-11111a85307b",
   "metadata": {},
   "outputs": [],
   "source": [
    "#reading in dataset train \n",
    "df = pd.read_csv('./datasets/train.csv')\n",
    "df_test = pd.read_csv('datasets/test.csv')"
   ]
  },
  {
   "cell_type": "code",
   "execution_count": 515,
   "id": "bf3767cb-137f-40ac-80d1-6f440eeeb026",
   "metadata": {},
   "outputs": [],
   "source": [
    "df_nums = df[['Lot Frontage','Lot Area','Mas Vnr Area','BsmtFin SF 1','BsmtFin SF 2','Bsmt Unf SF', 'Total Bsmt SF', '1st Flr SF', '2nd Flr SF', 'Low Qual Fin SF', 'Gr Liv Area', 'Garage Area']]"
   ]
  },
  {
   "cell_type": "markdown",
   "id": "3e2d43c3-6c11-494e-8d3c-057e81859269",
   "metadata": {},
   "source": [
    "## Removing Outlyers "
   ]
  },
  {
   "cell_type": "code",
   "execution_count": 516,
   "id": "98b5279e-1444-4742-ab24-7ff2710612da",
   "metadata": {},
   "outputs": [],
   "source": [
    "df.loc[df['Lot Area'] > 100_000, 'Lot Area'] = np.nan"
   ]
  },
  {
   "cell_type": "code",
   "execution_count": 517,
   "id": "9fba1d49-e10e-4747-b314-b5c0a1cee085",
   "metadata": {},
   "outputs": [],
   "source": [
    "df.loc[df['Total Bsmt SF'] > 5_000, 'Total Bsmt SF'] = np.nan"
   ]
  },
  {
   "cell_type": "code",
   "execution_count": 518,
   "id": "4f296488-5bb4-426f-949c-6761e03c49a9",
   "metadata": {},
   "outputs": [],
   "source": [
    "df.loc[df['1st Flr SF'] > 4_000, '1st Flr SF'] = np.nan"
   ]
  },
  {
   "cell_type": "code",
   "execution_count": 519,
   "id": "5e157fdc-261b-499a-9080-80bfd7069cb6",
   "metadata": {},
   "outputs": [],
   "source": [
    "df.loc[df['Lot Frontage'] > 300, 'Lot Frontage'] = np.nan"
   ]
  },
  {
   "cell_type": "code",
   "execution_count": 520,
   "id": "c4545fb8-7d38-4543-8a65-bf000e292efb",
   "metadata": {},
   "outputs": [],
   "source": [
    "df.loc[df['Total Bsmt SF'] > 5_000, 'Total Bsmt SF'] = np.nan"
   ]
  },
  {
   "cell_type": "code",
   "execution_count": 521,
   "id": "e4fd89c5-f204-42bb-86a5-f045f51c9590",
   "metadata": {},
   "outputs": [],
   "source": [
    "df.loc[df['BsmtFin SF 1'] > 3_500, 'BsmtFin SF 1'] = np.nan"
   ]
  },
  {
   "cell_type": "code",
   "execution_count": 522,
   "id": "8fc86e99-a805-48fb-87d1-79ed241c804f",
   "metadata": {},
   "outputs": [],
   "source": [
    "df.loc[df['Mas Vnr Area'] > 1_500, 'Mas Vnr Area'] = np.nan"
   ]
  },
  {
   "cell_type": "code",
   "execution_count": 523,
   "id": "6b7eb470-5a8e-4152-88e6-1e1ec8313c15",
   "metadata": {},
   "outputs": [],
   "source": [
    "df.loc[df['Total Bsmt SF'] > 4_500, 'Total Bsmt SF'] = np.nan"
   ]
  },
  {
   "cell_type": "code",
   "execution_count": 524,
   "id": "a0944e6c-d215-4507-989a-cea3909c2f71",
   "metadata": {},
   "outputs": [],
   "source": [
    "df.loc[df['Gr Liv Area'] > 4_500, 'Gr Liv Area'] = np.nan"
   ]
  },
  {
   "cell_type": "code",
   "execution_count": 525,
   "id": "f6e9baec-1505-4f74-bae7-b1ea3c4f431b",
   "metadata": {},
   "outputs": [],
   "source": [
    "#there seems to be a few very small sale prices, we will remove those \n",
    "df.drop(df[df['SalePrice'] <40_000].index, inplace=True)\n"
   ]
  },
  {
   "cell_type": "markdown",
   "id": "92a4766d-b801-452c-ad33-c7757f9dee06",
   "metadata": {},
   "source": [
    "## Filling NA and getting Dummies"
   ]
  },
  {
   "cell_type": "code",
   "execution_count": 526,
   "id": "598918e2-6859-46b1-9767-b817a651a4d0",
   "metadata": {},
   "outputs": [],
   "source": [
    "#first lets create the function and some dummies \n",
    "def eda_function (df): \n",
    "    # replacing NAN in lot with mean to reduce outlyers and still give a data point \n",
    "    df['Lot Frontage'].fillna(value=(df['Lot Frontage'].mean()), inplace = True)\n",
    "    df['Garage Yr Blt'].fillna(value=(df['Garage Yr Blt'].mean()), inplace = True)\n",
    "    df['BsmtFin SF 1'].fillna(value=(df['BsmtFin SF 1'].mean()), inplace = True)\n",
    "    df['BsmtFin SF 2'].fillna(value=(df['BsmtFin SF 2'].mean()), inplace = True)\n",
    "    df['Bsmt Unf SF'].fillna(value=(df['Bsmt Unf SF'].mean()), inplace = True)\n",
    "    df['Total Bsmt SF'].fillna(value=(df['Total Bsmt SF'].mean()), inplace = True)\n",
    "    df['Lot Area'].fillna(value=(df['Lot Area'].mean()), inplace = True)\n",
    "    df['Garage Area'].fillna(value=(df['Garage Area'].mean()), inplace = True)\n",
    "    df['Garage Yr Blt'].fillna(value=(df['Garage Yr Blt'].mean()), inplace = True)\n",
    "    df['Garage Cars'].fillna(value=(df['Garage Cars'].mean()), inplace = True)\n",
    "    df['Gr Liv Area'].fillna(value=(df['Gr Liv Area'].mean()), inplace = True)\n",
    "    df['1st Flr SF'].fillna(value=(df['1st Flr SF'].mean()), inplace = True)\n",
    "    #replacing mason area with 0 as it is likely to be the case and it will not create an outlyer\n",
    "    df['Mas Vnr Area'].fillna(value=(0), inplace = True)\n",
    "\n",
    "    #making catagories into dummies.  Some of these columns are numerical, but are really catacrorical in nature.  For example, you can not have 3.75 half bathrooms, you can have 3 or 4 half-bedrooms.  \n",
    "    df = pd.get_dummies(df, columns =['MS SubClass', 'MS Zoning',\n",
    "       'Street', 'Alley', 'Lot Shape', 'Land Contour',\n",
    "       'Utilities', 'Lot Config', 'Land Slope', 'Neighborhood',\n",
    "       'Condition 1', 'Condition 2', 'Bldg Type', 'House Style',\n",
    "       'Overall Qual', 'Overall Cond', 'Full Bath','Half Bath', \n",
    "       'Roof Style', 'Roof Matl', 'Exterior 1st', 'Exterior 2nd', 'Bsmt Full Bath',\n",
    "       'Mas Vnr Type', 'Exter Qual', 'Exter Cond', 'Bsmt Half Bath', 'Bedroom AbvGr',\n",
    "       'Foundation', 'Bsmt Qual', 'Bsmt Cond', 'Bsmt Exposure',\n",
    "       'BsmtFin Type 1', 'BsmtFin Type 2', 'Heating', 'Heating QC',\n",
    "       'Central Air', 'Electrical','Kitchen Qual', 'Functional', 'Fireplace Qu', 'Garage Type',\n",
    "       'Garage Finish', 'Garage Qual',\n",
    "       'Garage Cond', 'Paved Drive', 'Mo Sold', 'Kitchen AbvGr',\n",
    "       'Pool QC', 'Fence', 'Misc Feature', 'Sale Type'])\n",
    "    #replacing all other NAs with zero  https://sparkbyexamples.com/pandas/pandas-replace-nan-values-by-zero-in-a-column/#:~:text=Replace%20NaN%20Values%20with%20Zero%20on%20pandas%20DataFrame,but%20returns%20a%20new%20DataFrame.\n",
    "    #df = df.fillna(0) \n",
    "    \n",
    "    return df"
   ]
  },
  {
   "cell_type": "markdown",
   "id": "1b237744-a062-469d-9e7e-692f25f1391f",
   "metadata": {},
   "source": [
    "# Sending Data through the cleaning "
   ]
  },
  {
   "cell_type": "code",
   "execution_count": 527,
   "id": "247e1d9e-1f2b-4418-b131-f8cb18a1f265",
   "metadata": {},
   "outputs": [],
   "source": [
    "df_test = eda_function(df_test) "
   ]
  },
  {
   "cell_type": "code",
   "execution_count": 528,
   "id": "d0213a18-5c54-4f9a-8da4-e4a76a49fc46",
   "metadata": {},
   "outputs": [],
   "source": [
    "df = eda_function(df) "
   ]
  },
  {
   "cell_type": "markdown",
   "id": "ada3f9e1-c69e-4ce7-a865-3d3093d6a529",
   "metadata": {},
   "source": [
    "## Dropping columns that are not in both sets "
   ]
  },
  {
   "cell_type": "code",
   "execution_count": 529,
   "id": "77cedf65-e780-4b46-8238-9d9cad41a3a7",
   "metadata": {
    "tags": []
   },
   "outputs": [],
   "source": [
    "#finding those values  https://www.askpython.com/python/list/difference-between-two-lists-unique-entries#:~:text=In%20Python%2C%20to%20find%20the,unique%20entries%20from%20both%20lists.\n",
    "#taking sale price out so we can add it back in later\n",
    "sale_price = df['SalePrice']\n",
    "df = df.drop(columns = list(set(df.columns.values) - set(df_test.columns.values)))\n",
    "df['SalePrice'] = sale_price"
   ]
  },
  {
   "cell_type": "code",
   "execution_count": 530,
   "id": "13c9f430-23f4-4a36-92e6-c0e302e556ac",
   "metadata": {},
   "outputs": [],
   "source": [
    "#finding those values  https://www.askpython.com/python/list/difference-between-two-lists-unique-entries#:~:text=In%20Python%2C%20to%20find%20the,unique%20entries%20from%20both%20lists.\n",
    "df_test= df_test.drop(columns = list(set(df_test.columns.values) - set(df.columns.values)))"
   ]
  },
  {
   "cell_type": "markdown",
   "id": "e2eb4a89-424d-4ebc-8c95-00849457b4d9",
   "metadata": {},
   "source": [
    "## Dropping Non-Corrilated Columns "
   ]
  },
  {
   "cell_type": "code",
   "execution_count": 531,
   "id": "1ef6abb5-170f-4a53-b39e-1f41bd09af1e",
   "metadata": {},
   "outputs": [],
   "source": [
    "corr = (df.corr()[['SalePrice']].sort_values(by = \"SalePrice\", ascending = False))\n",
    "corr = corr[92:-75].index\n",
    "corr = corr.drop('Id', 'SalePrice')\n",
    "df =df.drop(columns = corr)\n",
    "df_test = df_test.drop(columns = corr)"
   ]
  },
  {
   "cell_type": "markdown",
   "id": "a1761ebd-8958-40d9-adbd-9ad47adddf28",
   "metadata": {},
   "source": [
    "##  Exporting Data "
   ]
  },
  {
   "cell_type": "code",
   "execution_count": 532,
   "id": "e27aa23d-07ad-47c4-9fbd-d17795d31155",
   "metadata": {},
   "outputs": [],
   "source": [
    "df.to_csv('./datasets/train_cleaned.csv')\n",
    "df_test.to_csv('datasets/test_cleanded.csv')"
   ]
  },
  {
   "cell_type": "code",
   "execution_count": null,
   "id": "a89ff782-c5ce-4338-92dd-1f50d81a70ea",
   "metadata": {},
   "outputs": [],
   "source": []
  },
  {
   "cell_type": "code",
   "execution_count": null,
   "id": "54bd3925-cd9e-42c6-8366-8c8ab0f4d86c",
   "metadata": {},
   "outputs": [],
   "source": []
  }
 ],
 "metadata": {
  "kernelspec": {
   "display_name": "Python 3 (ipykernel)",
   "language": "python",
   "name": "python3"
  },
  "language_info": {
   "codemirror_mode": {
    "name": "ipython",
    "version": 3
   },
   "file_extension": ".py",
   "mimetype": "text/x-python",
   "name": "python",
   "nbconvert_exporter": "python",
   "pygments_lexer": "ipython3",
   "version": "3.10.9"
  }
 },
 "nbformat": 4,
 "nbformat_minor": 5
}
