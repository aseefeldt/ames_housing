{
 "cells": [
  {
   "cell_type": "code",
   "execution_count": 1,
   "id": "8ca8dcfb-1ad0-472f-b324-4caef8253645",
   "metadata": {},
   "outputs": [],
   "source": [
    "#imports \n",
    "import pandas as pd\n",
    "import numpy as np \n",
    "import matplotlib.pyplot as plt\n",
    "import seaborn as sns\n",
    "\n",
    "from sklearn.model_selection import train_test_split\n",
    "from sklearn.linear_model import LinearRegression"
   ]
  },
  {
   "cell_type": "code",
   "execution_count": 2,
   "id": "254c691d-b211-409b-8465-11111a85307b",
   "metadata": {},
   "outputs": [],
   "source": [
    "#reading in dataset train \n",
    "df = pd.read_csv('./datasets/train_cleaned.csv')\n",
    "df_test = pd.read_csv('datasets/test_cleanded.csv')"
   ]
  },
  {
   "cell_type": "markdown",
   "id": "e34cce5a-a614-4405-8ee9-2e1bf34bef4a",
   "metadata": {},
   "source": [
    "## Taking a look at the data "
   ]
  },
  {
   "cell_type": "code",
   "execution_count": 3,
   "id": "0be7d38a-6950-4e74-ac9d-286d6bac3304",
   "metadata": {},
   "outputs": [
    {
     "data": {
      "text/html": [
       "<div>\n",
       "<style scoped>\n",
       "    .dataframe tbody tr th:only-of-type {\n",
       "        vertical-align: middle;\n",
       "    }\n",
       "\n",
       "    .dataframe tbody tr th {\n",
       "        vertical-align: top;\n",
       "    }\n",
       "\n",
       "    .dataframe thead th {\n",
       "        text-align: right;\n",
       "    }\n",
       "</style>\n",
       "<table border=\"1\" class=\"dataframe\">\n",
       "  <thead>\n",
       "    <tr style=\"text-align: right;\">\n",
       "      <th></th>\n",
       "      <th>Unnamed: 0</th>\n",
       "      <th>Id</th>\n",
       "      <th>PID</th>\n",
       "      <th>Lot Frontage</th>\n",
       "      <th>Lot Area</th>\n",
       "      <th>Mas Vnr Area</th>\n",
       "      <th>BsmtFin SF 1</th>\n",
       "      <th>BsmtFin SF 2</th>\n",
       "      <th>Bsmt Unf SF</th>\n",
       "      <th>Total Bsmt SF</th>\n",
       "      <th>...</th>\n",
       "      <th>Garage Yr Blt_2006.0</th>\n",
       "      <th>Garage Yr Blt_2007.0</th>\n",
       "      <th>Garage Yr Blt_2008.0</th>\n",
       "      <th>Garage Yr Blt_2009.0</th>\n",
       "      <th>Garage Yr Blt_2010.0</th>\n",
       "      <th>Yr Sold_2006</th>\n",
       "      <th>Yr Sold_2007</th>\n",
       "      <th>Yr Sold_2008</th>\n",
       "      <th>Yr Sold_2009</th>\n",
       "      <th>Yr Sold_2010</th>\n",
       "    </tr>\n",
       "  </thead>\n",
       "  <tbody>\n",
       "    <tr>\n",
       "      <th>0</th>\n",
       "      <td>0</td>\n",
       "      <td>109</td>\n",
       "      <td>533352170</td>\n",
       "      <td>69.093349</td>\n",
       "      <td>13517.0</td>\n",
       "      <td>289.0</td>\n",
       "      <td>533.0</td>\n",
       "      <td>0.0</td>\n",
       "      <td>192.0</td>\n",
       "      <td>725.0</td>\n",
       "      <td>...</td>\n",
       "      <td>0</td>\n",
       "      <td>0</td>\n",
       "      <td>0</td>\n",
       "      <td>0</td>\n",
       "      <td>0</td>\n",
       "      <td>0</td>\n",
       "      <td>0</td>\n",
       "      <td>0</td>\n",
       "      <td>0</td>\n",
       "      <td>1</td>\n",
       "    </tr>\n",
       "    <tr>\n",
       "      <th>1</th>\n",
       "      <td>1</td>\n",
       "      <td>544</td>\n",
       "      <td>531379050</td>\n",
       "      <td>43.000000</td>\n",
       "      <td>11492.0</td>\n",
       "      <td>132.0</td>\n",
       "      <td>637.0</td>\n",
       "      <td>0.0</td>\n",
       "      <td>276.0</td>\n",
       "      <td>913.0</td>\n",
       "      <td>...</td>\n",
       "      <td>0</td>\n",
       "      <td>0</td>\n",
       "      <td>0</td>\n",
       "      <td>0</td>\n",
       "      <td>0</td>\n",
       "      <td>0</td>\n",
       "      <td>0</td>\n",
       "      <td>0</td>\n",
       "      <td>1</td>\n",
       "      <td>0</td>\n",
       "    </tr>\n",
       "    <tr>\n",
       "      <th>2</th>\n",
       "      <td>2</td>\n",
       "      <td>153</td>\n",
       "      <td>535304180</td>\n",
       "      <td>68.000000</td>\n",
       "      <td>7922.0</td>\n",
       "      <td>0.0</td>\n",
       "      <td>731.0</td>\n",
       "      <td>0.0</td>\n",
       "      <td>326.0</td>\n",
       "      <td>1057.0</td>\n",
       "      <td>...</td>\n",
       "      <td>0</td>\n",
       "      <td>0</td>\n",
       "      <td>0</td>\n",
       "      <td>0</td>\n",
       "      <td>0</td>\n",
       "      <td>0</td>\n",
       "      <td>0</td>\n",
       "      <td>0</td>\n",
       "      <td>0</td>\n",
       "      <td>1</td>\n",
       "    </tr>\n",
       "    <tr>\n",
       "      <th>3</th>\n",
       "      <td>3</td>\n",
       "      <td>318</td>\n",
       "      <td>916386060</td>\n",
       "      <td>73.000000</td>\n",
       "      <td>9802.0</td>\n",
       "      <td>0.0</td>\n",
       "      <td>0.0</td>\n",
       "      <td>0.0</td>\n",
       "      <td>384.0</td>\n",
       "      <td>384.0</td>\n",
       "      <td>...</td>\n",
       "      <td>0</td>\n",
       "      <td>1</td>\n",
       "      <td>0</td>\n",
       "      <td>0</td>\n",
       "      <td>0</td>\n",
       "      <td>0</td>\n",
       "      <td>0</td>\n",
       "      <td>0</td>\n",
       "      <td>0</td>\n",
       "      <td>1</td>\n",
       "    </tr>\n",
       "    <tr>\n",
       "      <th>4</th>\n",
       "      <td>4</td>\n",
       "      <td>255</td>\n",
       "      <td>906425045</td>\n",
       "      <td>82.000000</td>\n",
       "      <td>14235.0</td>\n",
       "      <td>0.0</td>\n",
       "      <td>0.0</td>\n",
       "      <td>0.0</td>\n",
       "      <td>676.0</td>\n",
       "      <td>676.0</td>\n",
       "      <td>...</td>\n",
       "      <td>0</td>\n",
       "      <td>0</td>\n",
       "      <td>0</td>\n",
       "      <td>0</td>\n",
       "      <td>0</td>\n",
       "      <td>0</td>\n",
       "      <td>0</td>\n",
       "      <td>0</td>\n",
       "      <td>0</td>\n",
       "      <td>1</td>\n",
       "    </tr>\n",
       "  </tbody>\n",
       "</table>\n",
       "<p>5 rows × 581 columns</p>\n",
       "</div>"
      ],
      "text/plain": [
       "   Unnamed: 0   Id        PID  Lot Frontage  Lot Area  Mas Vnr Area  \\\n",
       "0           0  109  533352170     69.093349   13517.0         289.0   \n",
       "1           1  544  531379050     43.000000   11492.0         132.0   \n",
       "2           2  153  535304180     68.000000    7922.0           0.0   \n",
       "3           3  318  916386060     73.000000    9802.0           0.0   \n",
       "4           4  255  906425045     82.000000   14235.0           0.0   \n",
       "\n",
       "   BsmtFin SF 1  BsmtFin SF 2  Bsmt Unf SF  Total Bsmt SF  ...  \\\n",
       "0         533.0           0.0        192.0          725.0  ...   \n",
       "1         637.0           0.0        276.0          913.0  ...   \n",
       "2         731.0           0.0        326.0         1057.0  ...   \n",
       "3           0.0           0.0        384.0          384.0  ...   \n",
       "4           0.0           0.0        676.0          676.0  ...   \n",
       "\n",
       "   Garage Yr Blt_2006.0  Garage Yr Blt_2007.0  Garage Yr Blt_2008.0  \\\n",
       "0                     0                     0                     0   \n",
       "1                     0                     0                     0   \n",
       "2                     0                     0                     0   \n",
       "3                     0                     1                     0   \n",
       "4                     0                     0                     0   \n",
       "\n",
       "   Garage Yr Blt_2009.0  Garage Yr Blt_2010.0  Yr Sold_2006  Yr Sold_2007  \\\n",
       "0                     0                     0             0             0   \n",
       "1                     0                     0             0             0   \n",
       "2                     0                     0             0             0   \n",
       "3                     0                     0             0             0   \n",
       "4                     0                     0             0             0   \n",
       "\n",
       "   Yr Sold_2008  Yr Sold_2009  Yr Sold_2010  \n",
       "0             0             0             1  \n",
       "1             0             1             0  \n",
       "2             0             0             1  \n",
       "3             0             0             1  \n",
       "4             0             0             1  \n",
       "\n",
       "[5 rows x 581 columns]"
      ]
     },
     "execution_count": 3,
     "metadata": {},
     "output_type": "execute_result"
    }
   ],
   "source": [
    "df.head()"
   ]
  },
  {
   "cell_type": "code",
   "execution_count": 4,
   "id": "b872efbd-8798-4054-8122-38063735c008",
   "metadata": {},
   "outputs": [
    {
     "data": {
      "text/html": [
       "<div>\n",
       "<style scoped>\n",
       "    .dataframe tbody tr th:only-of-type {\n",
       "        vertical-align: middle;\n",
       "    }\n",
       "\n",
       "    .dataframe tbody tr th {\n",
       "        vertical-align: top;\n",
       "    }\n",
       "\n",
       "    .dataframe thead th {\n",
       "        text-align: right;\n",
       "    }\n",
       "</style>\n",
       "<table border=\"1\" class=\"dataframe\">\n",
       "  <thead>\n",
       "    <tr style=\"text-align: right;\">\n",
       "      <th></th>\n",
       "      <th>SalePrice</th>\n",
       "    </tr>\n",
       "  </thead>\n",
       "  <tbody>\n",
       "    <tr>\n",
       "      <th>Lot Frontage</th>\n",
       "      <td>0.325498</td>\n",
       "    </tr>\n",
       "    <tr>\n",
       "      <th>Wood Deck SF</th>\n",
       "      <td>0.324047</td>\n",
       "    </tr>\n",
       "    <tr>\n",
       "      <th>Overall Qual_10</th>\n",
       "      <td>0.318401</td>\n",
       "    </tr>\n",
       "    <tr>\n",
       "      <th>Mas Vnr Type_Stone</th>\n",
       "      <td>0.310077</td>\n",
       "    </tr>\n",
       "    <tr>\n",
       "      <th>Kitchen Qual_Gd</th>\n",
       "      <td>0.303223</td>\n",
       "    </tr>\n",
       "    <tr>\n",
       "      <th>Half Bath_1</th>\n",
       "      <td>0.297350</td>\n",
       "    </tr>\n",
       "    <tr>\n",
       "      <th>Paved Drive_Y</th>\n",
       "      <td>0.279995</td>\n",
       "    </tr>\n",
       "    <tr>\n",
       "      <th>Lot Shape_IR1</th>\n",
       "      <td>0.270844</td>\n",
       "    </tr>\n",
       "    <tr>\n",
       "      <th>Neighborhood_NoRidge</th>\n",
       "      <td>0.264062</td>\n",
       "    </tr>\n",
       "    <tr>\n",
       "      <th>Roof Style_Hip</th>\n",
       "      <td>0.263789</td>\n",
       "    </tr>\n",
       "    <tr>\n",
       "      <th>Central Air_Y</th>\n",
       "      <td>0.260983</td>\n",
       "    </tr>\n",
       "    <tr>\n",
       "      <th>Garage Cond_TA</th>\n",
       "      <td>0.259605</td>\n",
       "    </tr>\n",
       "    <tr>\n",
       "      <th>Neighborhood_StoneBr</th>\n",
       "      <td>0.257716</td>\n",
       "    </tr>\n",
       "    <tr>\n",
       "      <th>Mas Vnr Type_BrkFace</th>\n",
       "      <td>0.255344</td>\n",
       "    </tr>\n",
       "    <tr>\n",
       "      <th>2nd Flr SF</th>\n",
       "      <td>0.245916</td>\n",
       "    </tr>\n",
       "    <tr>\n",
       "      <th>Year Built_2008</th>\n",
       "      <td>0.244574</td>\n",
       "    </tr>\n",
       "    <tr>\n",
       "      <th>Electrical_SBrkr</th>\n",
       "      <td>0.244465</td>\n",
       "    </tr>\n",
       "    <tr>\n",
       "      <th>Garage Qual_TA</th>\n",
       "      <td>0.238168</td>\n",
       "    </tr>\n",
       "    <tr>\n",
       "      <th>Year Built_2006</th>\n",
       "      <td>0.237858</td>\n",
       "    </tr>\n",
       "    <tr>\n",
       "      <th>Fireplace Qu_Ex</th>\n",
       "      <td>0.235208</td>\n",
       "    </tr>\n",
       "  </tbody>\n",
       "</table>\n",
       "</div>"
      ],
      "text/plain": [
       "                      SalePrice\n",
       "Lot Frontage           0.325498\n",
       "Wood Deck SF           0.324047\n",
       "Overall Qual_10        0.318401\n",
       "Mas Vnr Type_Stone     0.310077\n",
       "Kitchen Qual_Gd        0.303223\n",
       "Half Bath_1            0.297350\n",
       "Paved Drive_Y          0.279995\n",
       "Lot Shape_IR1          0.270844\n",
       "Neighborhood_NoRidge   0.264062\n",
       "Roof Style_Hip         0.263789\n",
       "Central Air_Y          0.260983\n",
       "Garage Cond_TA         0.259605\n",
       "Neighborhood_StoneBr   0.257716\n",
       "Mas Vnr Type_BrkFace   0.255344\n",
       "2nd Flr SF             0.245916\n",
       "Year Built_2008        0.244574\n",
       "Electrical_SBrkr       0.244465\n",
       "Garage Qual_TA         0.238168\n",
       "Year Built_2006        0.237858\n",
       "Fireplace Qu_Ex        0.235208"
      ]
     },
     "execution_count": 4,
     "metadata": {},
     "output_type": "execute_result"
    }
   ],
   "source": [
    "(df.corr()[['SalePrice']].sort_values(by = \"SalePrice\", ascending = False))[30:50]\n"
   ]
  },
  {
   "cell_type": "markdown",
   "id": "3704f8d5-8295-4926-8cab-74a522586b4c",
   "metadata": {},
   "source": [
    "## EDA Graphs"
   ]
  },
  {
   "cell_type": "code",
   "execution_count": null,
   "id": "2b9587df-174e-44fa-8677-b85c3a714baa",
   "metadata": {},
   "outputs": [],
   "source": [
    "plt.figure(figsize = (12,6))\n",
    "sns.histplot(df['SalePrice'], bins =50, color=\"#595959\");\n",
    "\n",
    "plt.axvline(x=df['SalePrice'].mean(),\n",
    "            color='#fd0000')\n",
    "\n",
    "plt.xlabel(\"Home Sales Price\") \n",
    "plt.ylabel(\"Number of Homes\") \n",
    "\n",
    "plt.savefig('price_hist.png')"
   ]
  },
  {
   "cell_type": "code",
   "execution_count": null,
   "id": "44410ea8-1672-4cc6-a3a4-996bb7878670",
   "metadata": {},
   "outputs": [],
   "source": [
    "df['SalePrice'].mean()\n",
    "df['SalePrice'].median()"
   ]
  },
  {
   "cell_type": "code",
   "execution_count": null,
   "id": "8f4c86be-aa32-4c91-8f73-98e8b575eac1",
   "metadata": {},
   "outputs": [],
   "source": [
    "colors = {'#fd0000', \"#595959\"}"
   ]
  },
  {
   "cell_type": "code",
   "execution_count": null,
   "id": "96b8bc96-fc57-4b4b-8af8-ad59426815f3",
   "metadata": {},
   "outputs": [],
   "source": [
    "sns.scatterplot(x=df['1st Flr SF'], y = df['SalePrice'], color = '#595959' );\n",
    "\n",
    "plt.xlabel(\"First Floor Area\") \n",
    "plt.ylabel(\"Home Sales Price\") \n",
    "plt.savefig('scat_first-floor.png')"
   ]
  },
  {
   "cell_type": "code",
   "execution_count": null,
   "id": "7229a5ce-a576-455d-b9e3-209928389ac6",
   "metadata": {},
   "outputs": [],
   "source": [
    "sns.scatterplot(x=df['Total Bsmt SF'], y = df['SalePrice'], color=\"#595959\");\n",
    "plt.xlabel(\"Basement Area\") \n",
    "plt.ylabel(\"Home Sales Price\") \n",
    "plt.savefig('basement.png')"
   ]
  },
  {
   "cell_type": "code",
   "execution_count": null,
   "id": "940c1481-ae5f-4e43-856e-f21dcfecc413",
   "metadata": {},
   "outputs": [],
   "source": [
    "sns.scatterplot(x=df['1st Flr SF'], y = df['SalePrice'], hue=df['Foundation_PConc'], legend=False, palette= colors );\n",
    "\n",
    "plt.xlabel(\"First Floor Area\") \n",
    "plt.ylabel(\"Home Sales Price\") \n",
    "plt.savefig('poured_founation.png')"
   ]
  },
  {
   "cell_type": "code",
   "execution_count": null,
   "id": "38ccea71-743f-4211-902b-75a3768f00ad",
   "metadata": {},
   "outputs": [],
   "source": [
    "sns.scatterplot(x=df['1st Flr SF'], y = df['SalePrice'], hue=df['Overall Cond_4'], legend=False, palette= colors );\n",
    "\n",
    "plt.xlabel(\"First Floor Area\") \n",
    "plt.ylabel(\"Home Sales Price\")\n",
    "plt.savefig('cond_4.png')"
   ]
  },
  {
   "cell_type": "code",
   "execution_count": null,
   "id": "9cf5503d-5ac7-4ab1-92d1-8c27ddddc5e5",
   "metadata": {},
   "outputs": [],
   "source": [
    "sns.scatterplot(x=df['Lot Area'], y = df['SalePrice']);"
   ]
  },
  {
   "cell_type": "code",
   "execution_count": null,
   "id": "cc0e92cb-63e4-453b-a495-eaf28b529f9c",
   "metadata": {},
   "outputs": [],
   "source": [
    "sns.scatterplot(x=df['Lot Frontage'], y = df['SalePrice']);"
   ]
  },
  {
   "cell_type": "code",
   "execution_count": null,
   "id": "91a72860-ed08-4c62-8a10-867895111bd5",
   "metadata": {},
   "outputs": [],
   "source": [
    "sns.scatterplot(x=df['Mas Vnr Area'], y = df['SalePrice']);"
   ]
  },
  {
   "cell_type": "code",
   "execution_count": null,
   "id": "1d614b07-490d-4388-b0c3-87219575122d",
   "metadata": {},
   "outputs": [],
   "source": [
    "sns.scatterplot(x=df['2nd Flr SF'], y = df['SalePrice']);"
   ]
  },
  {
   "cell_type": "code",
   "execution_count": null,
   "id": "0beaee92-bb90-47d8-9cae-a1bc5615dc7b",
   "metadata": {},
   "outputs": [],
   "source": [
    "sns.scatterplot(x=df['BsmtFin SF 1'], y = df['SalePrice']);"
   ]
  },
  {
   "cell_type": "code",
   "execution_count": null,
   "id": "b2f80123-5f5a-471e-8c0f-23eb4d04d434",
   "metadata": {},
   "outputs": [],
   "source": [
    "sns.scatterplot(x=df['Garage Area'], y = df['SalePrice']);"
   ]
  },
  {
   "cell_type": "code",
   "execution_count": null,
   "id": "c029e61a-578e-4179-8e14-271667d10403",
   "metadata": {},
   "outputs": [],
   "source": [
    "sns.scatterplot(x=df['Bsmt Unf SF'], y = df['SalePrice']);"
   ]
  },
  {
   "cell_type": "code",
   "execution_count": null,
   "id": "39c782be-a6fe-4b63-b4e2-a0863e941fce",
   "metadata": {},
   "outputs": [],
   "source": [
    "sns.scatterplot(x=df['Total Bsmt SF'], y = df['SalePrice']);"
   ]
  },
  {
   "cell_type": "code",
   "execution_count": null,
   "id": "c9efd64d-d1be-4974-ba4c-2ac4fa36f3dd",
   "metadata": {},
   "outputs": [],
   "source": [
    "sns.scatterplot(x=df['Low Qual Fin SF'], y = df['SalePrice']);"
   ]
  },
  {
   "cell_type": "code",
   "execution_count": null,
   "id": "7c5e56fa-ab8c-496b-95ee-4681bcdcb99c",
   "metadata": {},
   "outputs": [],
   "source": [
    "sns.scatterplot(x=df['Garage Area'], y = df['SalePrice']);"
   ]
  },
  {
   "cell_type": "code",
   "execution_count": null,
   "id": "2a5dbc73-885e-43b3-be74-cc20bc200c14",
   "metadata": {},
   "outputs": [],
   "source": [
    "sns.scatterplot(x=df['Gr Liv Area'], y = df['SalePrice']);"
   ]
  },
  {
   "cell_type": "code",
   "execution_count": null,
   "id": "1dfc376d-f166-498e-9f3a-b5a9c7547cf0",
   "metadata": {},
   "outputs": [],
   "source": []
  },
  {
   "cell_type": "code",
   "execution_count": null,
   "id": "4b375b55-5220-4554-bce6-10bd27976186",
   "metadata": {},
   "outputs": [],
   "source": []
  },
  {
   "cell_type": "code",
   "execution_count": null,
   "id": "0e898644-f7d7-4690-806d-91865b18e08f",
   "metadata": {},
   "outputs": [],
   "source": []
  },
  {
   "cell_type": "code",
   "execution_count": null,
   "id": "fbf3ab21-6f80-4050-9ddd-71b34b24824a",
   "metadata": {},
   "outputs": [],
   "source": []
  },
  {
   "cell_type": "code",
   "execution_count": null,
   "id": "2ff69c1c-2685-45ba-b890-31aee6edff7c",
   "metadata": {},
   "outputs": [],
   "source": []
  },
  {
   "cell_type": "markdown",
   "id": "a51b177c-550e-4249-a0e3-94215404b88c",
   "metadata": {},
   "source": [
    "## Removing Outlyers \n"
   ]
  },
  {
   "cell_type": "code",
   "execution_count": null,
   "id": "113f3974-749d-4eea-b53d-135caa1fa347",
   "metadata": {},
   "outputs": [],
   "source": [
    "df['SalePrice'].nsmallest(n=10)"
   ]
  },
  {
   "cell_type": "code",
   "execution_count": null,
   "id": "f6e9baec-1505-4f74-bae7-b1ea3c4f431b",
   "metadata": {},
   "outputs": [],
   "source": [
    "#there seems to be a few very small sale prices, we will remove those \n",
    "df.drop(df[df['SalePrice'] <40_000].index, inplace=True)\n"
   ]
  },
  {
   "cell_type": "code",
   "execution_count": null,
   "id": "b0746645-7848-4600-a751-9932269fe1f5",
   "metadata": {},
   "outputs": [],
   "source": [
    "df['SalePrice'].nlargest(n=10)"
   ]
  },
  {
   "cell_type": "code",
   "execution_count": null,
   "id": "0b1cfe85-e499-44e9-9179-ebd3acbcd5ca",
   "metadata": {},
   "outputs": [],
   "source": [
    "#df.drop(df[df['SalePrice'] >400_000].index, inplace=True)"
   ]
  },
  {
   "cell_type": "markdown",
   "id": "51c0af1c-bcfb-423c-aa02-a50a68c29b95",
   "metadata": {},
   "source": [
    "Correlation.  I am going to look at corr and take out the values in the middle "
   ]
  },
  {
   "cell_type": "code",
   "execution_count": null,
   "id": "ad20e936-c8cf-4fdd-bfdb-e26d5138b684",
   "metadata": {},
   "outputs": [],
   "source": [
    "corr = (df.corr()[['SalePrice']].sort_values(by = \"SalePrice\", ascending = False))\n",
    "corr = corr[97:197].index\n",
    "#corr = corr.drop('Id')"
   ]
  },
  {
   "cell_type": "code",
   "execution_count": null,
   "id": "ef25d8dc-96a1-47c0-857e-8c8887d3fd72",
   "metadata": {},
   "outputs": [],
   "source": [
    "df =df.drop(columns = corr)"
   ]
  },
  {
   "cell_type": "code",
   "execution_count": null,
   "id": "b90ebfc3-2648-4448-a8bd-b9ac044d2f16",
   "metadata": {},
   "outputs": [],
   "source": [
    "corr"
   ]
  },
  {
   "cell_type": "code",
   "execution_count": null,
   "id": "377d825a-d0de-48b7-9a70-58eb98d16ad7",
   "metadata": {
    "tags": []
   },
   "outputs": [],
   "source": [
    "df_test = df_test.drop(columns = corr)"
   ]
  },
  {
   "cell_type": "markdown",
   "id": "052a5489-7195-4984-9404-0f19ef0ce632",
   "metadata": {},
   "source": [
    "Seeing what corr is left with a heatmap "
   ]
  },
  {
   "cell_type": "code",
   "execution_count": null,
   "id": "ef56cb70-47a0-4c41-b9d2-2d6945984c48",
   "metadata": {
    "tags": []
   },
   "outputs": [],
   "source": [
    "df.corr()[['SalePrice']].sort_values(by=['SalePrice'], ascending=False)[:35]\n",
    "                     "
   ]
  },
  {
   "cell_type": "markdown",
   "id": "37e48fa8-5d14-4855-a5c7-0a533556b278",
   "metadata": {},
   "source": [
    "## I fit the model and made preditions in the othe sheets "
   ]
  },
  {
   "cell_type": "code",
   "execution_count": null,
   "id": "d4b349f3-dbff-4f92-ac02-a837c1e9b47d",
   "metadata": {
    "tags": []
   },
   "outputs": [],
   "source": []
  },
  {
   "cell_type": "code",
   "execution_count": null,
   "id": "742fdbe5-ab97-4efc-b3a1-107d11088afd",
   "metadata": {},
   "outputs": [],
   "source": [
    "sub3 = pd.read_csv('Submissions/sub3.csv')"
   ]
  },
  {
   "cell_type": "code",
   "execution_count": null,
   "id": "8be78db5-e758-4775-8c99-38908011e86e",
   "metadata": {},
   "outputs": [],
   "source": []
  },
  {
   "cell_type": "code",
   "execution_count": null,
   "id": "03e94e2e-5b61-4c88-9f16-eb8beccb91bf",
   "metadata": {},
   "outputs": [],
   "source": [
    "plt.figure(figsize = (12,6))\n",
    "sns.histplot(sub3['SalePrice'], bins =50, color=\"#595959\");\n",
    "\n",
    "plt.axvline(x=df['SalePrice'].mean(),\n",
    "            color='#fd0000')\n",
    "\n",
    "plt.xlabel(\"Home Sales Price\") \n",
    "plt.ylabel(\"Number of Homes\") \n",
    "\n",
    "plt.savefig('pred_hist.png')"
   ]
  },
  {
   "cell_type": "code",
   "execution_count": null,
   "id": "a26ba714-dc9d-4b1b-af74-3f8ee69ab40e",
   "metadata": {},
   "outputs": [],
   "source": [
    "sub3['SalePrice'].mean()"
   ]
  },
  {
   "cell_type": "code",
   "execution_count": null,
   "id": "1c58b17b-b308-4535-9d4b-c741ec016ddf",
   "metadata": {},
   "outputs": [],
   "source": [
    "sub3['SalePrice'].median()"
   ]
  },
  {
   "cell_type": "code",
   "execution_count": null,
   "id": "71f3f7b2-0a1d-4f89-a023-1554de9d71ea",
   "metadata": {},
   "outputs": [],
   "source": []
  }
 ],
 "metadata": {
  "kernelspec": {
   "display_name": "Python 3 (ipykernel)",
   "language": "python",
   "name": "python3"
  },
  "language_info": {
   "codemirror_mode": {
    "name": "ipython",
    "version": 3
   },
   "file_extension": ".py",
   "mimetype": "text/x-python",
   "name": "python",
   "nbconvert_exporter": "python",
   "pygments_lexer": "ipython3",
   "version": "3.10.9"
  }
 },
 "nbformat": 4,
 "nbformat_minor": 5
}
